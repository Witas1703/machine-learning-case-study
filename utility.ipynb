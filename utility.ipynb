{
 "cells": [
  {
   "cell_type": "code",
   "execution_count": 47,
   "metadata": {},
   "outputs": [],
   "source": [
    "import numpy as np\n",
    "import pandas as pd\n",
    "import seaborn as sns\n",
    "import matplotlib.pyplot as plt\n",
    "%matplotlib inline\n",
    "\n",
    "from sklearn.model_selection import train_test_split\n",
    "\n",
    "from sklearn.pipeline import Pipeline\n",
    "from sklearn.preprocessing import StandardScaler, RobustScaler\n",
    "from sklearn.svm import SVC"
   ]
  },
  {
   "cell_type": "code",
   "execution_count": 42,
   "metadata": {},
   "outputs": [
    {
     "output_type": "execute_result",
     "data": {
      "text/plain": [
       "             MinTemp        MaxTemp       Rainfall    Evaporation  \\\n",
       "count  123710.000000  123710.000000  123710.000000  123710.000000   \n",
       "mean       12.419597      23.495168       0.199961       5.019636   \n",
       "std         6.363182       7.143505       0.445323       3.174230   \n",
       "min        -6.100000       2.400000       0.000000       0.000000   \n",
       "25%         7.800000      18.100000       0.000000       2.400000   \n",
       "50%        12.200000      23.000000       0.000000       4.400000   \n",
       "75%        17.100000      28.600000       0.200000       7.000000   \n",
       "max        31.000000      44.300000       2.000000      14.700000   \n",
       "\n",
       "            Sunshine  WindGustSpeed   WindSpeed9am   WindSpeed3pm  \\\n",
       "count  123710.000000  123710.000000  123710.000000  123710.000000   \n",
       "mean        7.473673      39.990664      14.680834      18.833732   \n",
       "std         3.903183      11.970577       7.612168       7.914690   \n",
       "min         0.000000       7.000000       2.000000       2.000000   \n",
       "25%         4.500000      31.000000       9.000000      13.000000   \n",
       "50%         8.300000      39.000000      13.000000      19.000000   \n",
       "75%        10.700000      48.000000      20.000000      24.000000   \n",
       "max        14.500000      72.000000      35.000000      39.000000   \n",
       "\n",
       "         Humidity9am    Humidity3pm  ...  WindDir3pm_NNW  WindDir3pm_NW  \\\n",
       "count  123710.000000  123710.000000  ...    123710.00000  123710.000000   \n",
       "mean       67.856301      50.802320  ...         0.05521       0.058645   \n",
       "std        18.695856      20.988174  ...         0.22839       0.234960   \n",
       "min        17.000000       0.000000  ...         0.00000       0.000000   \n",
       "25%        56.000000      36.000000  ...         0.00000       0.000000   \n",
       "50%        69.000000      51.000000  ...         0.00000       0.000000   \n",
       "75%        82.000000      65.000000  ...         0.00000       0.000000   \n",
       "max       100.000000     100.000000  ...         1.00000       1.000000   \n",
       "\n",
       "        WindDir3pm_S  WindDir3pm_SE  WindDir3pm_SSE  WindDir3pm_SSW  \\\n",
       "count  123710.000000  123710.000000   123710.000000   123710.000000   \n",
       "mean        0.070795       0.072387        0.067933        0.059041   \n",
       "std         0.256482       0.259129        0.251632        0.235703   \n",
       "min         0.000000       0.000000        0.000000        0.000000   \n",
       "25%         0.000000       0.000000        0.000000        0.000000   \n",
       "50%         0.000000       0.000000        0.000000        0.000000   \n",
       "75%         0.000000       0.000000        0.000000        0.000000   \n",
       "max         1.000000       1.000000        1.000000        1.000000   \n",
       "\n",
       "       WindDir3pm_SW   WindDir3pm_W  WindDir3pm_WNW  WindDir3pm_WSW  \n",
       "count  123710.000000  123710.000000   123710.000000   123710.000000  \n",
       "mean        0.066341       0.072589        0.063908        0.067771  \n",
       "std         0.248878       0.259462        0.244589        0.251354  \n",
       "min         0.000000       0.000000        0.000000        0.000000  \n",
       "25%         0.000000       0.000000        0.000000        0.000000  \n",
       "50%         0.000000       0.000000        0.000000        0.000000  \n",
       "75%         0.000000       0.000000        0.000000        0.000000  \n",
       "max         1.000000       1.000000        1.000000        1.000000  \n",
       "\n",
       "[8 rows x 70 columns]"
      ],
      "text/html": "<div>\n<style scoped>\n    .dataframe tbody tr th:only-of-type {\n        vertical-align: middle;\n    }\n\n    .dataframe tbody tr th {\n        vertical-align: top;\n    }\n\n    .dataframe thead th {\n        text-align: right;\n    }\n</style>\n<table border=\"1\" class=\"dataframe\">\n  <thead>\n    <tr style=\"text-align: right;\">\n      <th></th>\n      <th>MinTemp</th>\n      <th>MaxTemp</th>\n      <th>Rainfall</th>\n      <th>Evaporation</th>\n      <th>Sunshine</th>\n      <th>WindGustSpeed</th>\n      <th>WindSpeed9am</th>\n      <th>WindSpeed3pm</th>\n      <th>Humidity9am</th>\n      <th>Humidity3pm</th>\n      <th>...</th>\n      <th>WindDir3pm_NNW</th>\n      <th>WindDir3pm_NW</th>\n      <th>WindDir3pm_S</th>\n      <th>WindDir3pm_SE</th>\n      <th>WindDir3pm_SSE</th>\n      <th>WindDir3pm_SSW</th>\n      <th>WindDir3pm_SW</th>\n      <th>WindDir3pm_W</th>\n      <th>WindDir3pm_WNW</th>\n      <th>WindDir3pm_WSW</th>\n    </tr>\n  </thead>\n  <tbody>\n    <tr>\n      <th>count</th>\n      <td>123710.000000</td>\n      <td>123710.000000</td>\n      <td>123710.000000</td>\n      <td>123710.000000</td>\n      <td>123710.000000</td>\n      <td>123710.000000</td>\n      <td>123710.000000</td>\n      <td>123710.000000</td>\n      <td>123710.000000</td>\n      <td>123710.000000</td>\n      <td>...</td>\n      <td>123710.00000</td>\n      <td>123710.000000</td>\n      <td>123710.000000</td>\n      <td>123710.000000</td>\n      <td>123710.000000</td>\n      <td>123710.000000</td>\n      <td>123710.000000</td>\n      <td>123710.000000</td>\n      <td>123710.000000</td>\n      <td>123710.000000</td>\n    </tr>\n    <tr>\n      <th>mean</th>\n      <td>12.419597</td>\n      <td>23.495168</td>\n      <td>0.199961</td>\n      <td>5.019636</td>\n      <td>7.473673</td>\n      <td>39.990664</td>\n      <td>14.680834</td>\n      <td>18.833732</td>\n      <td>67.856301</td>\n      <td>50.802320</td>\n      <td>...</td>\n      <td>0.05521</td>\n      <td>0.058645</td>\n      <td>0.070795</td>\n      <td>0.072387</td>\n      <td>0.067933</td>\n      <td>0.059041</td>\n      <td>0.066341</td>\n      <td>0.072589</td>\n      <td>0.063908</td>\n      <td>0.067771</td>\n    </tr>\n    <tr>\n      <th>std</th>\n      <td>6.363182</td>\n      <td>7.143505</td>\n      <td>0.445323</td>\n      <td>3.174230</td>\n      <td>3.903183</td>\n      <td>11.970577</td>\n      <td>7.612168</td>\n      <td>7.914690</td>\n      <td>18.695856</td>\n      <td>20.988174</td>\n      <td>...</td>\n      <td>0.22839</td>\n      <td>0.234960</td>\n      <td>0.256482</td>\n      <td>0.259129</td>\n      <td>0.251632</td>\n      <td>0.235703</td>\n      <td>0.248878</td>\n      <td>0.259462</td>\n      <td>0.244589</td>\n      <td>0.251354</td>\n    </tr>\n    <tr>\n      <th>min</th>\n      <td>-6.100000</td>\n      <td>2.400000</td>\n      <td>0.000000</td>\n      <td>0.000000</td>\n      <td>0.000000</td>\n      <td>7.000000</td>\n      <td>2.000000</td>\n      <td>2.000000</td>\n      <td>17.000000</td>\n      <td>0.000000</td>\n      <td>...</td>\n      <td>0.00000</td>\n      <td>0.000000</td>\n      <td>0.000000</td>\n      <td>0.000000</td>\n      <td>0.000000</td>\n      <td>0.000000</td>\n      <td>0.000000</td>\n      <td>0.000000</td>\n      <td>0.000000</td>\n      <td>0.000000</td>\n    </tr>\n    <tr>\n      <th>25%</th>\n      <td>7.800000</td>\n      <td>18.100000</td>\n      <td>0.000000</td>\n      <td>2.400000</td>\n      <td>4.500000</td>\n      <td>31.000000</td>\n      <td>9.000000</td>\n      <td>13.000000</td>\n      <td>56.000000</td>\n      <td>36.000000</td>\n      <td>...</td>\n      <td>0.00000</td>\n      <td>0.000000</td>\n      <td>0.000000</td>\n      <td>0.000000</td>\n      <td>0.000000</td>\n      <td>0.000000</td>\n      <td>0.000000</td>\n      <td>0.000000</td>\n      <td>0.000000</td>\n      <td>0.000000</td>\n    </tr>\n    <tr>\n      <th>50%</th>\n      <td>12.200000</td>\n      <td>23.000000</td>\n      <td>0.000000</td>\n      <td>4.400000</td>\n      <td>8.300000</td>\n      <td>39.000000</td>\n      <td>13.000000</td>\n      <td>19.000000</td>\n      <td>69.000000</td>\n      <td>51.000000</td>\n      <td>...</td>\n      <td>0.00000</td>\n      <td>0.000000</td>\n      <td>0.000000</td>\n      <td>0.000000</td>\n      <td>0.000000</td>\n      <td>0.000000</td>\n      <td>0.000000</td>\n      <td>0.000000</td>\n      <td>0.000000</td>\n      <td>0.000000</td>\n    </tr>\n    <tr>\n      <th>75%</th>\n      <td>17.100000</td>\n      <td>28.600000</td>\n      <td>0.200000</td>\n      <td>7.000000</td>\n      <td>10.700000</td>\n      <td>48.000000</td>\n      <td>20.000000</td>\n      <td>24.000000</td>\n      <td>82.000000</td>\n      <td>65.000000</td>\n      <td>...</td>\n      <td>0.00000</td>\n      <td>0.000000</td>\n      <td>0.000000</td>\n      <td>0.000000</td>\n      <td>0.000000</td>\n      <td>0.000000</td>\n      <td>0.000000</td>\n      <td>0.000000</td>\n      <td>0.000000</td>\n      <td>0.000000</td>\n    </tr>\n    <tr>\n      <th>max</th>\n      <td>31.000000</td>\n      <td>44.300000</td>\n      <td>2.000000</td>\n      <td>14.700000</td>\n      <td>14.500000</td>\n      <td>72.000000</td>\n      <td>35.000000</td>\n      <td>39.000000</td>\n      <td>100.000000</td>\n      <td>100.000000</td>\n      <td>...</td>\n      <td>1.00000</td>\n      <td>1.000000</td>\n      <td>1.000000</td>\n      <td>1.000000</td>\n      <td>1.000000</td>\n      <td>1.000000</td>\n      <td>1.000000</td>\n      <td>1.000000</td>\n      <td>1.000000</td>\n      <td>1.000000</td>\n    </tr>\n  </tbody>\n</table>\n<p>8 rows × 70 columns</p>\n</div>"
     },
     "metadata": {},
     "execution_count": 42
    }
   ],
   "source": [
    "df = pd.read_csv(\"data/rain_outliers_removed.csv\")\n",
    "\n",
    "# encoding RainTomorrow and RainToday as binary values\n",
    "df.RainToday.replace((\"Yes\", \"No\"), (1,0), inplace = True)\n",
    "df.RainTomorrow.replace((\"Yes\", \"No\"), (1,0), inplace = True)\n",
    "\n",
    "categorical_columns = [\"Season\", \"WindGustDir\", \"WindDir9am\", \"WindDir3pm\"]\n",
    "\n",
    "df = pd.get_dummies(df, columns = categorical_columns)\n",
    "\n",
    "df.describe()"
   ]
  },
  {
   "cell_type": "code",
   "execution_count": 40,
   "metadata": {},
   "outputs": [],
   "source": [
    "y = df.RainTomorrow.to_numpy()\n",
    "X = df.drop(columns=['RainTomorrow']).to_numpy()\n",
    "\n",
    "X_train, X_test, y_train, y_test = train_test_split(X, y, test_size=0.10, random_state=42)"
   ]
  },
  {
   "cell_type": "code",
   "execution_count": 48,
   "metadata": {},
   "outputs": [],
   "source": [
    "pipe = Pipeline([('scaler', RobustScaler()), ('svc', SVC())])"
   ]
  },
  {
   "cell_type": "code",
   "execution_count": 49,
   "metadata": {},
   "outputs": [
    {
     "output_type": "stream",
     "name": "stdout",
     "text": [
      "CPU times: user 19min 13s, sys: 190 ms, total: 19min 14s\nWall time: 19min 15s\n"
     ]
    },
    {
     "output_type": "execute_result",
     "data": {
      "text/plain": [
       "Pipeline(steps=[('scaler', RobustScaler()), ('svc', SVC())])"
      ]
     },
     "metadata": {},
     "execution_count": 49
    }
   ],
   "source": [
    "%%time\n",
    "pipe.fit(X_train, y_train)"
   ]
  },
  {
   "cell_type": "code",
   "execution_count": 50,
   "metadata": {},
   "outputs": [
    {
     "output_type": "execute_result",
     "data": {
      "text/plain": [
       "0.8505375474900978"
      ]
     },
     "metadata": {},
     "execution_count": 50
    }
   ],
   "source": [
    "pipe.score(X_test, y_test)"
   ]
  },
  {
   "cell_type": "code",
   "execution_count": null,
   "metadata": {},
   "outputs": [],
   "source": [
    "# TODO: add different measures (better than accuracy for this XD)"
   ]
  },
  {
   "cell_type": "code",
   "execution_count": 5,
   "metadata": {},
   "outputs": [
    {
     "name": "stderr",
     "output_type": "stream",
     "text": [
      "/home/witold/.local/lib/python3.8/site-packages/seaborn/_decorators.py:36: FutureWarning: Pass the following variable as a keyword arg: x. From version 0.12, the only valid positional argument will be `data`, and passing other arguments without an explicit keyword will result in an error or misinterpretation.\n",
      "  warnings.warn(\n"
     ]
    },
    {
     "data": {
      "image/png": "[encoded data removed]",
      "text/plain": [
       "<Figure size 432x288 with 1 Axes>"
      ]
     },
     "metadata": {
      "needs_background": "light"
     },
     "output_type": "display_data"
    }
   ],
   "source": [
    "g = sns.countplot(df['RainTomorrow'])\n",
    "plt.show()"
   ]
  },
  {
   "cell_type": "markdown",
   "metadata": {},
   "source": [
    "I'm going to try under- and over- sampling here:"
   ]
  }
 ],
 "metadata": {
  "kernelspec": {
   "display_name": "Python 3",
   "language": "python",
   "name": "python3"
  },
  "language_info": {
   "codemirror_mode": {
    "name": "ipython",
    "version": 3
   },
   "file_extension": ".py",
   "mimetype": "text/x-python",
   "name": "python",
   "nbconvert_exporter": "python",
   "pygments_lexer": "ipython3",
   "version": "3.8.5"
  }
 },
 "nbformat": 4,
 "nbformat_minor": 4
}