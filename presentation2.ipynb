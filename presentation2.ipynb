{
  "nbformat": 4,
  "nbformat_minor": 0,
  "metadata": {
    "kernelspec": {
      "display_name": "Python 3",
      "language": "python",
      "name": "python3"
    },
    "language_info": {
      "codemirror_mode": {
        "name": "ipython",
        "version": 3
      },
      "file_extension": ".py",
      "mimetype": "text/x-python",
      "name": "python",
      "nbconvert_exporter": "python",
      "pygments_lexer": "ipython3",
      "version": "3.8.5"
    },
    "colab": {
      "name": "utility.ipynb",
      "provenance": [],
      "collapsed_sections": [
        "WyJhO9KX1I6g",
        "1v6L3jL01Rsz",
        "ymmBkiwfyLaG",
        "PB4GwIpXyRoO",
        "SunEAB4oDLSH"
      ],
      "toc_visible": true
    }
  },
  "cells": [
    {
      "cell_type": "markdown",
      "metadata": {
        "id": "sQtdgtNHXKzP"
      },
      "source": [
        "# Machine learning case study: rain in Australia dataset\n",
        "### Anna Przybyłowska, Gurbet Gungoren, Wojciech Tomczak, Witold Taisner\n",
        "\n",
        "## 1. Used libraries"
      ]
    },
    {
      "cell_type": "code",
      "metadata": {
        "colab": {
          "base_uri": "https://localhost:8080/"
        },
        "id": "3S46gNZNXKzT",
        "outputId": "86f42505-7334-4546-a879-78fe4c72e918"
      },
      "source": [
        "# importing libraries\n",
        "import numpy as np\n",
        "import pandas as pd\n",
        "import seaborn as sns\n",
        "import matplotlib.pyplot as plt\n",
        "%matplotlib inline\n",
        "\n",
        "from sklearn.model_selection import train_test_split, GridSearchCV\n",
        "from sklearn.pipeline import Pipeline\n",
        "from sklearn.preprocessing import StandardScaler, RobustScaler\n",
        "from sklearn import metrics\n",
        "from sklearn.preprocessing import LabelEncoder\n",
        "from sklearn.utils.class_weight import compute_class_weight\n",
        "from sklearn.feature_selection import SelectKBest, f_classif\n",
        "from sklearn.decomposition import PCA\n",
        "\n",
        "############ MODELS ############################\n",
        "\n",
        "from sklearn.neural_network import MLPClassifier\n",
        "from sklearn.neighbors import KNeighborsClassifier\n",
        "from sklearn.svm import SVC\n",
        "from sklearn.tree import DecisionTreeClassifier\n",
        "from sklearn.ensemble import RandomForestClassifier, AdaBoostClassifier, GradientBoostingClassifier\n",
        "\n",
        "from xgboost import XGBClassifier\n",
        "from lightgbm import LGBMClassifier\n",
        "\n",
        "#################################################\n",
        "\n",
        "from imblearn.over_sampling import SMOTE\n",
        "from imblearn.under_sampling import RandomUnderSampler\n",
        "\n",
        "from collections import Counter"
      ],
      "execution_count": 5,
      "outputs": [
        {
          "output_type": "stream",
          "text": [
            "/usr/local/lib/python3.7/dist-packages/sklearn/externals/six.py:31: FutureWarning: The module is deprecated in version 0.21 and will be removed in version 0.23 since we've dropped support for Python 2.7. Please rely on the official version of six (https://pypi.org/project/six/).\n",
            "  \"(https://pypi.org/project/six/).\", FutureWarning)\n",
            "/usr/local/lib/python3.7/dist-packages/sklearn/utils/deprecation.py:144: FutureWarning: The sklearn.neighbors.base module is  deprecated in version 0.22 and will be removed in version 0.24. The corresponding classes / functions should instead be imported from sklearn.neighbors. Anything that cannot be imported from sklearn.neighbors is now part of the private API.\n",
            "  warnings.warn(message, FutureWarning)\n"
          ],
          "name": "stderr"
        }
      ]
    },
    {
      "cell_type": "markdown",
      "metadata": {
        "id": "vKLETBu2XKzU"
      },
      "source": [
        "## 2. Importing preprocessed data\n",
        "\n",
        "We decided to use one-hot encoding, as it performed slightly better than label-encoding. Here we are using our preprocessed dataset, without outliers."
      ]
    },
    {
      "cell_type": "code",
      "metadata": {
        "colab": {
          "base_uri": "https://localhost:8080/",
          "height": 217
        },
        "id": "0GT4sDYQXKzU",
        "outputId": "66787694-90d2-4c90-dcd3-7c4faa858fe7"
      },
      "source": [
        "df = pd.read_csv(\"/data/rain_outliers_removed.csv\")\n",
        "\n",
        "# encoding RainTomorrow and RainToday as binary values\n",
        "df.RainToday.replace((\"Yes\", \"No\"), (1,0), inplace = True)\n",
        "df.RainTomorrow.replace((\"Yes\", \"No\"), (1,0), inplace = True)\n",
        "\n",
        "#################### ONE-HOT ENCODING #########################################\n",
        "\n",
        "# columns to be changed to one-hot encoding\n",
        "categorical_columns = [\"Season\", \"WindGustDir\", \"WindDir9am\", \"WindDir3pm\"]\n",
        "\n",
        "# creating one-hot encoding\n",
        "df = pd.get_dummies(df, columns = categorical_columns)\n",
        "\n",
        "#################### LABEL ENCODER ############################################\n",
        "\n",
        "# le = LabelEncoder()\n",
        "\n",
        "# df[\"Season\"] = le.fit_transform(df[\"Season\"])\n",
        "# df[\"WindDir9am\"]= le.fit_transform(df[\"WindDir9am\"])\n",
        "# df[\"WindDir3pm\"]= le.fit_transform(df[\"WindDir3pm\"])\n",
        "# df[\"WindGustDir\"] = le.fit_transform(df[\"WindGustDir\"])\n",
        "\n",
        "###############################################################################\n",
        "\n",
        "df.head()"
      ],
      "execution_count": 7,
      "outputs": [
        {
          "output_type": "execute_result",
          "data": {
            "text/html": [
              "<div>\n",
              "<style scoped>\n",
              "    .dataframe tbody tr th:only-of-type {\n",
              "        vertical-align: middle;\n",
              "    }\n",
              "\n",
              "    .dataframe tbody tr th {\n",
              "        vertical-align: top;\n",
              "    }\n",
              "\n",
              "    .dataframe thead th {\n",
              "        text-align: right;\n",
              "    }\n",
              "</style>\n",
              "<table border=\"1\" class=\"dataframe\">\n",
              "  <thead>\n",
              "    <tr style=\"text-align: right;\">\n",
              "      <th></th>\n",
              "      <th>MinTemp</th>\n",
              "      <th>MaxTemp</th>\n",
              "      <th>Rainfall</th>\n",
              "      <th>Evaporation</th>\n",
              "      <th>Sunshine</th>\n",
              "      <th>WindGustSpeed</th>\n",
              "      <th>WindSpeed9am</th>\n",
              "      <th>WindSpeed3pm</th>\n",
              "      <th>Humidity9am</th>\n",
              "      <th>Humidity3pm</th>\n",
              "      <th>Pressure9am</th>\n",
              "      <th>Pressure3pm</th>\n",
              "      <th>Cloud9am</th>\n",
              "      <th>Cloud3pm</th>\n",
              "      <th>Temp9am</th>\n",
              "      <th>Temp3pm</th>\n",
              "      <th>RainToday</th>\n",
              "      <th>RainTomorrow</th>\n",
              "      <th>Season_Autumn</th>\n",
              "      <th>Season_Spring</th>\n",
              "      <th>Season_Summer</th>\n",
              "      <th>Season_Winter</th>\n",
              "      <th>WindGustDir_E</th>\n",
              "      <th>WindGustDir_ENE</th>\n",
              "      <th>WindGustDir_ESE</th>\n",
              "      <th>WindGustDir_N</th>\n",
              "      <th>WindGustDir_NE</th>\n",
              "      <th>WindGustDir_NNE</th>\n",
              "      <th>WindGustDir_NNW</th>\n",
              "      <th>WindGustDir_NW</th>\n",
              "      <th>WindGustDir_S</th>\n",
              "      <th>WindGustDir_SE</th>\n",
              "      <th>WindGustDir_SSE</th>\n",
              "      <th>WindGustDir_SSW</th>\n",
              "      <th>WindGustDir_SW</th>\n",
              "      <th>WindGustDir_W</th>\n",
              "      <th>WindGustDir_WNW</th>\n",
              "      <th>WindGustDir_WSW</th>\n",
              "      <th>WindDir9am_E</th>\n",
              "      <th>WindDir9am_ENE</th>\n",
              "      <th>WindDir9am_ESE</th>\n",
              "      <th>WindDir9am_N</th>\n",
              "      <th>WindDir9am_NE</th>\n",
              "      <th>WindDir9am_NNE</th>\n",
              "      <th>WindDir9am_NNW</th>\n",
              "      <th>WindDir9am_NW</th>\n",
              "      <th>WindDir9am_S</th>\n",
              "      <th>WindDir9am_SE</th>\n",
              "      <th>WindDir9am_SSE</th>\n",
              "      <th>WindDir9am_SSW</th>\n",
              "      <th>WindDir9am_SW</th>\n",
              "      <th>WindDir9am_W</th>\n",
              "      <th>WindDir9am_WNW</th>\n",
              "      <th>WindDir9am_WSW</th>\n",
              "      <th>WindDir3pm_E</th>\n",
              "      <th>WindDir3pm_ENE</th>\n",
              "      <th>WindDir3pm_ESE</th>\n",
              "      <th>WindDir3pm_N</th>\n",
              "      <th>WindDir3pm_NE</th>\n",
              "      <th>WindDir3pm_NNE</th>\n",
              "      <th>WindDir3pm_NNW</th>\n",
              "      <th>WindDir3pm_NW</th>\n",
              "      <th>WindDir3pm_S</th>\n",
              "      <th>WindDir3pm_SE</th>\n",
              "      <th>WindDir3pm_SSE</th>\n",
              "      <th>WindDir3pm_SSW</th>\n",
              "      <th>WindDir3pm_SW</th>\n",
              "      <th>WindDir3pm_W</th>\n",
              "      <th>WindDir3pm_WNW</th>\n",
              "      <th>WindDir3pm_WSW</th>\n",
              "    </tr>\n",
              "  </thead>\n",
              "  <tbody>\n",
              "    <tr>\n",
              "      <th>0</th>\n",
              "      <td>13.4</td>\n",
              "      <td>22.9</td>\n",
              "      <td>0.6</td>\n",
              "      <td>7.0</td>\n",
              "      <td>10.5</td>\n",
              "      <td>44</td>\n",
              "      <td>20</td>\n",
              "      <td>24</td>\n",
              "      <td>71</td>\n",
              "      <td>22</td>\n",
              "      <td>1007.7</td>\n",
              "      <td>1007.1</td>\n",
              "      <td>8</td>\n",
              "      <td>7</td>\n",
              "      <td>16.9</td>\n",
              "      <td>21.8</td>\n",
              "      <td>0</td>\n",
              "      <td>0</td>\n",
              "      <td>0</td>\n",
              "      <td>0</td>\n",
              "      <td>1</td>\n",
              "      <td>0</td>\n",
              "      <td>0</td>\n",
              "      <td>0</td>\n",
              "      <td>0</td>\n",
              "      <td>0</td>\n",
              "      <td>0</td>\n",
              "      <td>0</td>\n",
              "      <td>0</td>\n",
              "      <td>0</td>\n",
              "      <td>0</td>\n",
              "      <td>0</td>\n",
              "      <td>0</td>\n",
              "      <td>0</td>\n",
              "      <td>0</td>\n",
              "      <td>1</td>\n",
              "      <td>0</td>\n",
              "      <td>0</td>\n",
              "      <td>0</td>\n",
              "      <td>0</td>\n",
              "      <td>0</td>\n",
              "      <td>0</td>\n",
              "      <td>0</td>\n",
              "      <td>0</td>\n",
              "      <td>0</td>\n",
              "      <td>0</td>\n",
              "      <td>0</td>\n",
              "      <td>0</td>\n",
              "      <td>0</td>\n",
              "      <td>0</td>\n",
              "      <td>0</td>\n",
              "      <td>1</td>\n",
              "      <td>0</td>\n",
              "      <td>0</td>\n",
              "      <td>0</td>\n",
              "      <td>0</td>\n",
              "      <td>0</td>\n",
              "      <td>0</td>\n",
              "      <td>0</td>\n",
              "      <td>0</td>\n",
              "      <td>0</td>\n",
              "      <td>0</td>\n",
              "      <td>0</td>\n",
              "      <td>0</td>\n",
              "      <td>0</td>\n",
              "      <td>0</td>\n",
              "      <td>0</td>\n",
              "      <td>0</td>\n",
              "      <td>1</td>\n",
              "      <td>0</td>\n",
              "    </tr>\n",
              "    <tr>\n",
              "      <th>1</th>\n",
              "      <td>7.4</td>\n",
              "      <td>25.1</td>\n",
              "      <td>0.0</td>\n",
              "      <td>7.6</td>\n",
              "      <td>13.3</td>\n",
              "      <td>44</td>\n",
              "      <td>4</td>\n",
              "      <td>22</td>\n",
              "      <td>44</td>\n",
              "      <td>25</td>\n",
              "      <td>1010.6</td>\n",
              "      <td>1007.8</td>\n",
              "      <td>0</td>\n",
              "      <td>5</td>\n",
              "      <td>17.2</td>\n",
              "      <td>24.3</td>\n",
              "      <td>0</td>\n",
              "      <td>0</td>\n",
              "      <td>0</td>\n",
              "      <td>0</td>\n",
              "      <td>1</td>\n",
              "      <td>0</td>\n",
              "      <td>0</td>\n",
              "      <td>0</td>\n",
              "      <td>0</td>\n",
              "      <td>0</td>\n",
              "      <td>0</td>\n",
              "      <td>0</td>\n",
              "      <td>0</td>\n",
              "      <td>0</td>\n",
              "      <td>0</td>\n",
              "      <td>0</td>\n",
              "      <td>0</td>\n",
              "      <td>0</td>\n",
              "      <td>0</td>\n",
              "      <td>0</td>\n",
              "      <td>1</td>\n",
              "      <td>0</td>\n",
              "      <td>0</td>\n",
              "      <td>0</td>\n",
              "      <td>0</td>\n",
              "      <td>0</td>\n",
              "      <td>0</td>\n",
              "      <td>0</td>\n",
              "      <td>1</td>\n",
              "      <td>0</td>\n",
              "      <td>0</td>\n",
              "      <td>0</td>\n",
              "      <td>0</td>\n",
              "      <td>0</td>\n",
              "      <td>0</td>\n",
              "      <td>0</td>\n",
              "      <td>0</td>\n",
              "      <td>0</td>\n",
              "      <td>0</td>\n",
              "      <td>0</td>\n",
              "      <td>0</td>\n",
              "      <td>0</td>\n",
              "      <td>0</td>\n",
              "      <td>0</td>\n",
              "      <td>0</td>\n",
              "      <td>0</td>\n",
              "      <td>0</td>\n",
              "      <td>0</td>\n",
              "      <td>0</td>\n",
              "      <td>0</td>\n",
              "      <td>0</td>\n",
              "      <td>0</td>\n",
              "      <td>0</td>\n",
              "      <td>1</td>\n",
              "    </tr>\n",
              "    <tr>\n",
              "      <th>2</th>\n",
              "      <td>12.9</td>\n",
              "      <td>25.7</td>\n",
              "      <td>0.0</td>\n",
              "      <td>11.4</td>\n",
              "      <td>10.0</td>\n",
              "      <td>46</td>\n",
              "      <td>19</td>\n",
              "      <td>26</td>\n",
              "      <td>38</td>\n",
              "      <td>30</td>\n",
              "      <td>1007.6</td>\n",
              "      <td>1008.7</td>\n",
              "      <td>3</td>\n",
              "      <td>2</td>\n",
              "      <td>21.0</td>\n",
              "      <td>23.2</td>\n",
              "      <td>0</td>\n",
              "      <td>0</td>\n",
              "      <td>0</td>\n",
              "      <td>0</td>\n",
              "      <td>1</td>\n",
              "      <td>0</td>\n",
              "      <td>0</td>\n",
              "      <td>0</td>\n",
              "      <td>0</td>\n",
              "      <td>0</td>\n",
              "      <td>0</td>\n",
              "      <td>0</td>\n",
              "      <td>0</td>\n",
              "      <td>0</td>\n",
              "      <td>0</td>\n",
              "      <td>0</td>\n",
              "      <td>0</td>\n",
              "      <td>0</td>\n",
              "      <td>0</td>\n",
              "      <td>0</td>\n",
              "      <td>0</td>\n",
              "      <td>1</td>\n",
              "      <td>0</td>\n",
              "      <td>0</td>\n",
              "      <td>0</td>\n",
              "      <td>0</td>\n",
              "      <td>0</td>\n",
              "      <td>0</td>\n",
              "      <td>0</td>\n",
              "      <td>0</td>\n",
              "      <td>0</td>\n",
              "      <td>0</td>\n",
              "      <td>0</td>\n",
              "      <td>0</td>\n",
              "      <td>0</td>\n",
              "      <td>1</td>\n",
              "      <td>0</td>\n",
              "      <td>0</td>\n",
              "      <td>0</td>\n",
              "      <td>0</td>\n",
              "      <td>0</td>\n",
              "      <td>0</td>\n",
              "      <td>0</td>\n",
              "      <td>0</td>\n",
              "      <td>0</td>\n",
              "      <td>0</td>\n",
              "      <td>0</td>\n",
              "      <td>0</td>\n",
              "      <td>0</td>\n",
              "      <td>0</td>\n",
              "      <td>0</td>\n",
              "      <td>0</td>\n",
              "      <td>0</td>\n",
              "      <td>1</td>\n",
              "    </tr>\n",
              "    <tr>\n",
              "      <th>3</th>\n",
              "      <td>9.2</td>\n",
              "      <td>28.0</td>\n",
              "      <td>0.0</td>\n",
              "      <td>6.8</td>\n",
              "      <td>12.2</td>\n",
              "      <td>24</td>\n",
              "      <td>11</td>\n",
              "      <td>9</td>\n",
              "      <td>45</td>\n",
              "      <td>16</td>\n",
              "      <td>1017.6</td>\n",
              "      <td>1012.8</td>\n",
              "      <td>7</td>\n",
              "      <td>1</td>\n",
              "      <td>18.1</td>\n",
              "      <td>26.5</td>\n",
              "      <td>0</td>\n",
              "      <td>0</td>\n",
              "      <td>0</td>\n",
              "      <td>0</td>\n",
              "      <td>1</td>\n",
              "      <td>0</td>\n",
              "      <td>0</td>\n",
              "      <td>0</td>\n",
              "      <td>0</td>\n",
              "      <td>0</td>\n",
              "      <td>1</td>\n",
              "      <td>0</td>\n",
              "      <td>0</td>\n",
              "      <td>0</td>\n",
              "      <td>0</td>\n",
              "      <td>0</td>\n",
              "      <td>0</td>\n",
              "      <td>0</td>\n",
              "      <td>0</td>\n",
              "      <td>0</td>\n",
              "      <td>0</td>\n",
              "      <td>0</td>\n",
              "      <td>0</td>\n",
              "      <td>0</td>\n",
              "      <td>0</td>\n",
              "      <td>0</td>\n",
              "      <td>0</td>\n",
              "      <td>0</td>\n",
              "      <td>0</td>\n",
              "      <td>0</td>\n",
              "      <td>0</td>\n",
              "      <td>1</td>\n",
              "      <td>0</td>\n",
              "      <td>0</td>\n",
              "      <td>0</td>\n",
              "      <td>0</td>\n",
              "      <td>0</td>\n",
              "      <td>0</td>\n",
              "      <td>1</td>\n",
              "      <td>0</td>\n",
              "      <td>0</td>\n",
              "      <td>0</td>\n",
              "      <td>0</td>\n",
              "      <td>0</td>\n",
              "      <td>0</td>\n",
              "      <td>0</td>\n",
              "      <td>0</td>\n",
              "      <td>0</td>\n",
              "      <td>0</td>\n",
              "      <td>0</td>\n",
              "      <td>0</td>\n",
              "      <td>0</td>\n",
              "      <td>0</td>\n",
              "      <td>0</td>\n",
              "    </tr>\n",
              "    <tr>\n",
              "      <th>4</th>\n",
              "      <td>17.5</td>\n",
              "      <td>32.3</td>\n",
              "      <td>1.0</td>\n",
              "      <td>8.0</td>\n",
              "      <td>5.0</td>\n",
              "      <td>41</td>\n",
              "      <td>7</td>\n",
              "      <td>20</td>\n",
              "      <td>82</td>\n",
              "      <td>33</td>\n",
              "      <td>1010.8</td>\n",
              "      <td>1006.0</td>\n",
              "      <td>7</td>\n",
              "      <td>8</td>\n",
              "      <td>17.8</td>\n",
              "      <td>29.7</td>\n",
              "      <td>0</td>\n",
              "      <td>0</td>\n",
              "      <td>0</td>\n",
              "      <td>0</td>\n",
              "      <td>1</td>\n",
              "      <td>0</td>\n",
              "      <td>0</td>\n",
              "      <td>0</td>\n",
              "      <td>0</td>\n",
              "      <td>0</td>\n",
              "      <td>0</td>\n",
              "      <td>0</td>\n",
              "      <td>0</td>\n",
              "      <td>0</td>\n",
              "      <td>0</td>\n",
              "      <td>0</td>\n",
              "      <td>0</td>\n",
              "      <td>0</td>\n",
              "      <td>0</td>\n",
              "      <td>1</td>\n",
              "      <td>0</td>\n",
              "      <td>0</td>\n",
              "      <td>0</td>\n",
              "      <td>1</td>\n",
              "      <td>0</td>\n",
              "      <td>0</td>\n",
              "      <td>0</td>\n",
              "      <td>0</td>\n",
              "      <td>0</td>\n",
              "      <td>0</td>\n",
              "      <td>0</td>\n",
              "      <td>0</td>\n",
              "      <td>0</td>\n",
              "      <td>0</td>\n",
              "      <td>0</td>\n",
              "      <td>0</td>\n",
              "      <td>0</td>\n",
              "      <td>0</td>\n",
              "      <td>0</td>\n",
              "      <td>0</td>\n",
              "      <td>0</td>\n",
              "      <td>0</td>\n",
              "      <td>0</td>\n",
              "      <td>0</td>\n",
              "      <td>0</td>\n",
              "      <td>1</td>\n",
              "      <td>0</td>\n",
              "      <td>0</td>\n",
              "      <td>0</td>\n",
              "      <td>0</td>\n",
              "      <td>0</td>\n",
              "      <td>0</td>\n",
              "      <td>0</td>\n",
              "      <td>0</td>\n",
              "    </tr>\n",
              "  </tbody>\n",
              "</table>\n",
              "</div>"
            ],
            "text/plain": [
              "   MinTemp  MaxTemp  Rainfall  ...  WindDir3pm_W  WindDir3pm_WNW  WindDir3pm_WSW\n",
              "0     13.4     22.9       0.6  ...             0               1               0\n",
              "1      7.4     25.1       0.0  ...             0               0               1\n",
              "2     12.9     25.7       0.0  ...             0               0               1\n",
              "3      9.2     28.0       0.0  ...             0               0               0\n",
              "4     17.5     32.3       1.0  ...             0               0               0\n",
              "\n",
              "[5 rows x 70 columns]"
            ]
          },
          "metadata": {
            "tags": []
          },
          "execution_count": 7
        }
      ]
    },
    {
      "cell_type": "code",
      "metadata": {
        "colab": {
          "base_uri": "https://localhost:8080/"
        },
        "id": "OaZApFRvXx8B",
        "outputId": "c5956e42-7838-435b-f6e8-86c88cfda0f5"
      },
      "source": [
        "df.shape"
      ],
      "execution_count": 67,
      "outputs": [
        {
          "output_type": "execute_result",
          "data": {
            "text/plain": [
              "(123710, 70)"
            ]
          },
          "metadata": {
            "tags": []
          },
          "execution_count": 67
        }
      ]
    },
    {
      "cell_type": "markdown",
      "metadata": {
        "id": "OSIFzETlZyLZ"
      },
      "source": [
        "We split data to the training set (80%) and test set (20%)."
      ]
    },
    {
      "cell_type": "code",
      "metadata": {
        "id": "M_Pdz5YDXKzW"
      },
      "source": [
        "y = df.RainTomorrow.to_numpy()\n",
        "X = df.drop(columns=['RainTomorrow']).to_numpy()\n",
        "\n",
        "X_train, X_test, y_train, y_test = train_test_split(X, y, test_size=0.20, random_state=42)"
      ],
      "execution_count": 9,
      "outputs": []
    },
    {
      "cell_type": "markdown",
      "metadata": {
        "id": "8M9gi7RrXKzW"
      },
      "source": [
        "## 3. Used metrics:\n",
        "Apart from standard accuracy, we decided to also evaluate our models based on [balanced accuracy](https://scikit-learn.org/stable/modules/generated/sklearn.metrics.balanced_accuracy_score.html), which is better suited for inbalanced data, as well as F1, Precision and Recall."
      ]
    },
    {
      "cell_type": "markdown",
      "metadata": {
        "id": "6smwIqW8XKzX"
      },
      "source": [
        "## 4. Tested approaches:\n",
        "We decided to test 4 approaches, as our data is quite imbalanced. All the results were obtained for the preprocessed dataset without outliers.\n",
        "***\n",
        "### 4.1 Training on preprocessed only dataset\n",
        "\n",
        "- SVC:\n",
        "    - StandardScaler: accuracy: 85%, balanced accuracy: 72%;\n",
        "- KNN:\n",
        "    - StandardScaler: accuracy: 80%, balanced accuracy: 64%;\n",
        "- MLP Classifier:\n",
        "    - StandardScaler: accuracy: 83%, balanced accuracy: 72%;\n",
        "- Decision Tree Classifier:\n",
        "    - StandardScaler: accuracy: 78%, balanced accuracy: 69%;\n",
        "- **Random Forest Classifier**:\n",
        "    - StandardScaler: accuracy: 85%, balanced accuracy: 72%; // 100 estimators\n",
        "    - StandardScaler: accuracy: 85%, balanced accuracy: 72%; // 300 estimators\n",
        "- AdaBoost Classifier:\n",
        "    - StandardScaler: accuracy: 84%, balanced accuracy: 71%; // 100 estimators\n",
        "    - StandardScaler: accuracy: 84%, balanced accuracy: 72%; // 300 estimators\n",
        "- **XGBoost Classifier**:\n",
        "    - StandardScaler: accuracy: 85%, balanced accuracy: 74%;\n",
        "- **Logistic Regression**:\n",
        "    - StandardScaler: accuracy: 85%, balanced accuracy: 72.7%;\n",
        "- **LGBMClassifier**:\n",
        "    - StandardScaler: accuracy: 85.3%, balanced accuracy: 73.5%;\n",
        "    \n",
        "We managed to determine four classifiers, written in bold case, which manged to get the best results on this data.\n",
        "***\n",
        "### 4.2 Oversampling\n",
        "\n",
        "Second of tested approaches focused only on previously found classifiers: *XGBoost*, *Random Forest*, *LGBM* and some of the more promising: *AdaBoost*. \n",
        "Oversampling creates copies of minority class, so that there is even number of each class instance.\n",
        "\n",
        "- **Random Forest Classifier**:\n",
        "    - StandardScaler: accuracy: 85.2%, balanced accuracy: 74.3%; \n",
        "- LGBMClassifier:\n",
        "    - StandardScaler: accuracy: 85.2%, balanced accuracy: 73.5%;\n",
        "- XGBoost:\n",
        "    - StandardScaler: accuracy: 85.2%, balanced accuracy: 73.8%;\n",
        "- AdaBoost:\n",
        "    - StandardScaler: accuracy: 81.4%, balanced accuracy: 75%;\n",
        "    \n",
        "Easy to notice, oversampling did not improve our results in a significant way."
      ]
    },
    {
      "cell_type": "raw",
      "metadata": {
        "id": "MfOfioS-XKzX"
      },
      "source": [
        "oversample = SMOTE()\n",
        "X_train, y_train = oversample.fit_resample(X_train, y_train)\n",
        "count = Counter(y_train)\n",
        "count"
      ]
    },
    {
      "cell_type": "markdown",
      "metadata": {
        "id": "sc5VY4NfXKzY"
      },
      "source": [
        "***\n",
        "### 4.3 Undersampling\n",
        "Similarly to oversampling, we focused on *XGBoost*, *Random Forest*, *LGBM* and *AdaBoost*. Undersampling is a method of removing similar instances of majority class, so that its cardinality is the same as minority class.\n",
        "\n",
        "- **Random Forest Classifier**:\n",
        "    - StandardScaler: accuracy: 79%, balanced accuracy 79%;\n",
        "- LGBMClassifier:\n",
        "    - StandardScaler: accuracy: 79.1%, balanced accuracy: 78.9%;\n",
        "- **XGBoost**:\n",
        "    - StandardScaler: accuracy: 79%, balanced accuracy: 79%;\n",
        "- AdaBoost:\n",
        "    - StandardScaler: accuracy: 78.2%, balanced accuracy: 77.4%;\n",
        "    \n",
        "Undersampling decreases overall accuracy, but at the same time increases balanced accuracy (better prediction of minority class)"
      ]
    },
    {
      "cell_type": "raw",
      "metadata": {
        "id": "dVUFrZGfXKzY"
      },
      "source": [
        "rus = RandomUnderSampler(random_state=0)\n",
        "X_train, y_train = rus.fit_resample(X_train, y_train)\n",
        "count = Counter(y_train)\n",
        "count"
      ]
    },
    {
      "cell_type": "markdown",
      "metadata": {
        "id": "4T4ygvAeXKzY"
      },
      "source": [
        "***\n",
        "### 4.4 Feature selection, grid search, class weights\n",
        "In addition we tested some other approaches:\n",
        "        \n",
        "#### 4.4.1 Grid search \n",
        "##### (only for Random Forest and XGBoost)\n",
        "We tried to determine the best parameters for Random Forest and XGBoost with GridSerchCV method connected with K-best feature selection. It managed to determine best parameters and correspodning results:\n",
        "\n",
        "- RandomForest: \n",
        "    - 'criterion': 'entropy',\n",
        "    - 'max_depth': None,\n",
        "    - 'min_samples_leaf': 4,\n",
        "    - 'n_estimators': 100,\n",
        "    - 'feature_selection k': 20\n",
        "    - StandardScaler: **accuracy: 85%, balanced accuracy: 72%**;\n",
        "- XGBoost Classifier:\n",
        "    - 'colsample_bytree': 0.6,\n",
        "    - 'gamma': 0,\n",
        "    - 'max_depth': 8,\n",
        "    - 'min_child_weight': 2,\n",
        "    - 'subsample': 1.0,\n",
        "    - 'feature_selection k': 40}\n",
        "    - StandardScaler: **accuracy: 85.2%, balanced accuracy: 73.6%**;\n",
        "    \n",
        "Grid searches managed to get similar results as training on dataset only.\n",
        "        \n",
        "#### 4.4.2 Class weights\n",
        "In this approach we assigned weights to each class, so that the model would maximize its objective function with minority class having bigger weight.\n",
        "- **XGBoost Classifier**:\n",
        "    - StandardScaler: accuracy: 81%, balanced accuracy 79.4%;\n",
        "- Random Forest Classifier:\n",
        "    - StandardScaler: accuracy: 85.1%, balanced accuracy 71.5%;\n",
        "- LGBMClassifier:\n",
        "    - StandardScaler: accuracy: 80.1%, balanced accuracy: 79.6%;\n",
        "    \n",
        "Assigning weights to classes seems to produce the best trade-off between overall accuracy and balanced accuracy."
      ]
    },
    {
      "cell_type": "markdown",
      "metadata": {
        "id": "cGXj22-CafbC"
      },
      "source": [
        "##5. Choosing the best approches.\n",
        "  We decided to choose 3 classifiers which gave us the best results and check how they perform on the original dataset and the dataset with outliers.\n",
        "\n",
        "  - LGBM Classifier\n",
        "  - Random Forest\n",
        "  - XGBoost Classifier\n"
      ]
    },
    {
      "cell_type": "markdown",
      "metadata": {
        "id": "8Iw8yFM4cfcg"
      },
      "source": [
        "We will test the results with 4 differetn approaches:\n",
        "  - just simple training on training set\n",
        "  - oversampling\n",
        "  - undersampling\n",
        "  - class weights\n",
        "\n",
        "Since grid search is quite expensive when it comes to time, we decided not to check how it performs on the other datasets.\n"
      ]
    },
    {
      "cell_type": "markdown",
      "metadata": {
        "id": "EolbIcNSXKzZ"
      },
      "source": [
        "## 5. Implementation"
      ]
    },
    {
      "cell_type": "markdown",
      "metadata": {
        "id": "WnnPrKDViPxh"
      },
      "source": [
        "dataset with outliers (one-hot encoding)"
      ]
    },
    {
      "cell_type": "code",
      "metadata": {
        "colab": {
          "base_uri": "https://localhost:8080/"
        },
        "id": "gsKtUCA9iP-Z",
        "outputId": "5b0572f2-b3e1-4e50-e954-a80511ffbe49"
      },
      "source": [
        "df1 = pd.read_csv(\"/data/rain_with_outliers.csv\")\n",
        "\n",
        "# encoding RainTomorrow and RainToday as binary values\n",
        "df1.RainToday.replace((\"Yes\", \"No\"), (1,0), inplace = True)\n",
        "df1.RainTomorrow.replace((\"Yes\", \"No\"), (1,0), inplace = True)\n",
        "\n",
        "#################### ONE-HOT ENCODING #########################################\n",
        "\n",
        "# columns to be changed to one-hot encoding\n",
        "categorical_columns = [\"Season\", \"WindGustDir\", \"WindDir9am\", \"WindDir3pm\"]\n",
        "\n",
        "# creating one-hot encoding\n",
        "df1 = pd.get_dummies(df1, columns = categorical_columns)\n",
        "\n",
        "#################### LABEL ENCODER ############################################\n",
        "\n",
        "# le = LabelEncoder()\n",
        "\n",
        "# df[\"Season\"] = le.fit_transform(df[\"Season\"])\n",
        "# df[\"WindDir9am\"]= le.fit_transform(df[\"WindDir9am\"])\n",
        "# df[\"WindDir3pm\"]= le.fit_transform(df[\"WindDir3pm\"])\n",
        "# df[\"WindGustDir\"] = le.fit_transform(df[\"WindGustDir\"])\n",
        "\n",
        "###############################################################################\n",
        "\n",
        "df1.shape"
      ],
      "execution_count": 10,
      "outputs": [
        {
          "output_type": "execute_result",
          "data": {
            "text/plain": [
              "(123710, 70)"
            ]
          },
          "metadata": {
            "tags": []
          },
          "execution_count": 10
        }
      ]
    },
    {
      "cell_type": "code",
      "metadata": {
        "id": "xEwEhhbEj0oy"
      },
      "source": [
        "y1 = df1.RainTomorrow.to_numpy()\n",
        "X1 = df1.drop(columns=['RainTomorrow']).to_numpy()\n",
        "\n",
        "X1_train, X1_test, y1_train, y1_test = train_test_split(X1, y1, test_size=0.20, random_state=42)"
      ],
      "execution_count": 11,
      "outputs": []
    },
    {
      "cell_type": "markdown",
      "metadata": {
        "id": "fuLlLzDjimP5"
      },
      "source": [
        "original dataset  - we have to remove all na value to make all the classifiers work, but since we don't want to perform a lot of processing we will use label encoding instead of one-hot encoding"
      ]
    },
    {
      "cell_type": "code",
      "metadata": {
        "colab": {
          "base_uri": "https://localhost:8080/"
        },
        "id": "Vy2_boQTimgL",
        "outputId": "57e30261-0d4a-411a-d559-e2c6db4dd2e8"
      },
      "source": [
        "df2 = pd.read_csv(\"/data/weatherAUS_original_data.csv\")\n",
        "df2 = df2.drop(\"Date\",axis = 1)\n",
        "df2.dropna(inplace = True)\n",
        "\n",
        "# encoding RainTomorrow and RainToday as binary values\n",
        "df2.RainToday.replace((\"Yes\", \"No\"), (1,0), inplace = True)\n",
        "df2.RainTomorrow.replace((\"Yes\", \"No\"), (1,0), inplace = True)\n",
        "\n",
        "#################### LABEL ENCODER ############################################\n",
        "\n",
        "le = LabelEncoder()\n",
        "\n",
        "df2[\"Location\"] = le.fit_transform(df2[\"Location\"])\n",
        "df2[\"WindDir9am\"]= le.fit_transform(df2[\"WindDir9am\"])\n",
        "df2[\"WindDir3pm\"]= le.fit_transform(df2[\"WindDir3pm\"])\n",
        "df2[\"WindGustDir\"] = le.fit_transform(df2[\"WindGustDir\"])\n",
        "\n",
        "###############################################################################\n",
        "\n",
        "df2.shape"
      ],
      "execution_count": 12,
      "outputs": [
        {
          "output_type": "execute_result",
          "data": {
            "text/plain": [
              "(56420, 22)"
            ]
          },
          "metadata": {
            "tags": []
          },
          "execution_count": 12
        }
      ]
    },
    {
      "cell_type": "code",
      "metadata": {
        "id": "rWu4EgEUj744"
      },
      "source": [
        "y2 = df2.RainTomorrow.to_numpy()\n",
        "X2 = df2.drop(columns=['RainTomorrow']).to_numpy()\n",
        "\n",
        "X2_train, X2_test, y2_train, y2_test = train_test_split(X2, y2, test_size=0.20, random_state=42)"
      ],
      "execution_count": 13,
      "outputs": []
    },
    {
      "cell_type": "markdown",
      "metadata": {
        "id": "g-BJmBMqd8Gy"
      },
      "source": [
        "LGBM Classifier"
      ]
    },
    {
      "cell_type": "code",
      "metadata": {
        "id": "3sQ0qjQZXKza"
      },
      "source": [
        "pipe_LGBM = Pipeline(\n",
        "    [\n",
        "        ('scaler', StandardScaler()),\n",
        "        ('classifier', LGBMClassifier())\n",
        "\n",
        "    ], \n",
        "    verbose=True\n",
        "    ) \n",
        "\n",
        "pipe_LGBM_weight = Pipeline(\n",
        "    [\n",
        "        ('scaler', StandardScaler()),\n",
        "        ('classifier', LGBMClassifier(class_weight='balanced'))\n",
        "\n",
        "    ], \n",
        "    verbose=True\n",
        "    ) "
      ],
      "execution_count": 14,
      "outputs": []
    },
    {
      "cell_type": "markdown",
      "metadata": {
        "id": "H1V8xLAfkLSB"
      },
      "source": [
        "Random Forest"
      ]
    },
    {
      "cell_type": "code",
      "metadata": {
        "id": "DV0GP9NwkLbq"
      },
      "source": [
        "pipe_RF = Pipeline(\n",
        "    [\n",
        "        ('scaler', StandardScaler()),\n",
        "        ('classifier', RandomForestClassifier())\n",
        "\n",
        "    ], \n",
        "    verbose=True\n",
        "    ) \n",
        "\n",
        "pipe_RF_weight = Pipeline(\n",
        "    [\n",
        "        ('scaler', StandardScaler()),\n",
        "        ('classifier', RandomForestClassifier(class_weight='balanced'))\n",
        "\n",
        "    ], \n",
        "    verbose=True\n",
        "    ) "
      ],
      "execution_count": 15,
      "outputs": []
    },
    {
      "cell_type": "markdown",
      "metadata": {
        "id": "sMoHgPvrkLla"
      },
      "source": [
        "XGBoost Classifier"
      ]
    },
    {
      "cell_type": "code",
      "metadata": {
        "id": "TwnDXfQjkLvT"
      },
      "source": [
        "pipe_XGB = Pipeline(\n",
        "    [\n",
        "        ('scaler', StandardScaler()),\n",
        "        ('classifier', XGBClassifier())\n",
        "\n",
        "    ], \n",
        "    verbose=True\n",
        "    ) \n",
        "def pipe_XGB_weight(y_train):\n",
        "  pipe_XGB_weight = Pipeline(\n",
        "      [\n",
        "          ('scaler', StandardScaler()),\n",
        "          ('classifier', XGBClassifier(use_label_encoder=False, scale_pos_weight = sum(y_train == 0)/sum(y_train == 1)))\n",
        "\n",
        "      ], \n",
        "      verbose=True\n",
        "      ) \n",
        "  return pipe_XGB_weight"
      ],
      "execution_count": 16,
      "outputs": []
    },
    {
      "cell_type": "markdown",
      "metadata": {
        "id": "1NzAVC-8XKzb"
      },
      "source": [
        "Training the models - functions:"
      ]
    },
    {
      "cell_type": "code",
      "metadata": {
        "id": "PTrxyiv4mxsI"
      },
      "source": [
        "def training(pipe, X_train, y_train, X_test):\n",
        "  %%time\n",
        "  pipe.fit(X_train, y_train)\n",
        "  y_predicted = pipe.predict(X_test)\n",
        "  return y_predicted"
      ],
      "execution_count": 17,
      "outputs": []
    },
    {
      "cell_type": "code",
      "metadata": {
        "id": "t5MbTiJUndn2"
      },
      "source": [
        "def report(y_predicted, y_test, data):\n",
        "  report = metrics.classification_report(y_test, y_predicted)\n",
        "  print(data)\n",
        "  print(report)\n",
        "  p1=metrics.accuracy_score(y_test,y_predicted)*100\n",
        "  p2=metrics.balanced_accuracy_score(y_test, y_predicted)*100\n",
        "  print(\"Accuracy of the model is:\",p1,\"%\")\n",
        "  print(\"Balanced accuracy of the model is:\",p2,\"%\")\n",
        "  cm = metrics.confusion_matrix(y_test, y_predicted)\n",
        "  print(cm)\n",
        "  return ((p1,p2))\n"
      ],
      "execution_count": 18,
      "outputs": []
    },
    {
      "cell_type": "code",
      "metadata": {
        "id": "mg-PXgmw2F2k"
      },
      "source": [
        "results = {}"
      ],
      "execution_count": 19,
      "outputs": []
    },
    {
      "cell_type": "markdown",
      "metadata": {
        "id": "WyJhO9KX1I6g"
      },
      "source": [
        "### 5.1 Simple approach"
      ]
    },
    {
      "cell_type": "markdown",
      "metadata": {
        "id": "4LAFLCbynZ6G"
      },
      "source": [
        "LGBM (simple)"
      ]
    },
    {
      "cell_type": "code",
      "metadata": {
        "colab": {
          "base_uri": "https://localhost:8080/"
        },
        "id": "GU9LeI4jXKzc",
        "outputId": "deb21df8-464a-477e-f9a2-facada9bef50"
      },
      "source": [
        "results['LGBM(simple, no outliers)']=report(training(pipe_LGBM, X_train, y_train, X_test), y_test, \"Rain outliers removed\")"
      ],
      "execution_count": 20,
      "outputs": [
        {
          "output_type": "stream",
          "text": [
            "CPU times: user 3 µs, sys: 1e+03 ns, total: 4 µs\n",
            "Wall time: 7.15 µs\n",
            "[Pipeline] ............ (step 1 of 2) Processing scaler, total=   0.2s\n",
            "[Pipeline] ........ (step 2 of 2) Processing classifier, total=   4.8s\n",
            "Rain outliers removed\n",
            "              precision    recall  f1-score   support\n",
            "\n",
            "           0       0.87      0.95      0.91     19284\n",
            "           1       0.74      0.52      0.61      5458\n",
            "\n",
            "    accuracy                           0.85     24742\n",
            "   macro avg       0.81      0.73      0.76     24742\n",
            "weighted avg       0.84      0.85      0.84     24742\n",
            "\n",
            "Accuracy of the model is: 85.3164659283809 %\n",
            "Balanced accuracy of the model is: 73.32602820398633 %\n",
            "[[18278  1006]\n",
            " [ 2627  2831]]\n"
          ],
          "name": "stdout"
        }
      ]
    },
    {
      "cell_type": "code",
      "metadata": {
        "colab": {
          "base_uri": "https://localhost:8080/"
        },
        "id": "qoOlnYdMplqd",
        "outputId": "87adf4d7-6090-4577-bbb8-7e190d27ddd6"
      },
      "source": [
        "results['LGBM(simple, outliers)']=report(training(pipe_LGBM, X1_train, y1_train, X1_test), y1_test, \"Rain with outliers\")"
      ],
      "execution_count": 21,
      "outputs": [
        {
          "output_type": "stream",
          "text": [
            "CPU times: user 4 µs, sys: 0 ns, total: 4 µs\n",
            "Wall time: 7.63 µs\n",
            "[Pipeline] ............ (step 1 of 2) Processing scaler, total=   0.2s\n",
            "[Pipeline] ........ (step 2 of 2) Processing classifier, total=   4.7s\n",
            "Rain with outliers\n",
            "              precision    recall  f1-score   support\n",
            "\n",
            "           0       0.88      0.95      0.91     19284\n",
            "           1       0.74      0.53      0.62      5458\n",
            "\n",
            "    accuracy                           0.86     24742\n",
            "   macro avg       0.81      0.74      0.77     24742\n",
            "weighted avg       0.85      0.86      0.85     24742\n",
            "\n",
            "Accuracy of the model is: 85.58726052865573 %\n",
            "Balanced accuracy of the model is: 73.99891852010286 %\n",
            "[[18269  1015]\n",
            " [ 2551  2907]]\n"
          ],
          "name": "stdout"
        }
      ]
    },
    {
      "cell_type": "code",
      "metadata": {
        "colab": {
          "base_uri": "https://localhost:8080/"
        },
        "id": "MBB4t3sypl39",
        "outputId": "9f852b85-7663-4c1b-bdc7-b18228e57cdc"
      },
      "source": [
        "results['LGBM(simple, original)']=report(training(pipe_LGBM, X2_train, y2_train, X2_test), y2_test, \"original data\")"
      ],
      "execution_count": 22,
      "outputs": [
        {
          "output_type": "stream",
          "text": [
            "CPU times: user 3 µs, sys: 1 µs, total: 4 µs\n",
            "Wall time: 5.25 µs\n",
            "[Pipeline] ............ (step 1 of 2) Processing scaler, total=   0.0s\n",
            "[Pipeline] ........ (step 2 of 2) Processing classifier, total=   0.9s\n",
            "original data\n",
            "              precision    recall  f1-score   support\n",
            "\n",
            "           0       0.89      0.95      0.92      8799\n",
            "           1       0.76      0.57      0.65      2485\n",
            "\n",
            "    accuracy                           0.87     11284\n",
            "   macro avg       0.82      0.76      0.78     11284\n",
            "weighted avg       0.86      0.87      0.86     11284\n",
            "\n",
            "Accuracy of the model is: 86.50301311591633 %\n",
            "Balanced accuracy of the model is: 75.92554531644922 %\n",
            "[[8344  455]\n",
            " [1068 1417]]\n"
          ],
          "name": "stdout"
        }
      ]
    },
    {
      "cell_type": "markdown",
      "metadata": {
        "id": "rSCgr_sMXKzd"
      },
      "source": [
        "XGBoost (simple)"
      ]
    },
    {
      "cell_type": "code",
      "metadata": {
        "colab": {
          "base_uri": "https://localhost:8080/"
        },
        "id": "ARxbjA00XKzd",
        "outputId": "a269aa7c-775d-45c1-8305-7db814489d42"
      },
      "source": [
        "results['XGB(simple, no outliers)']=report(training(pipe_XGB, X_train, y_train, X_test), y_test, \"Rain outliers removed\")"
      ],
      "execution_count": 23,
      "outputs": [
        {
          "output_type": "stream",
          "text": [
            "CPU times: user 4 µs, sys: 0 ns, total: 4 µs\n",
            "Wall time: 7.87 µs\n",
            "[Pipeline] ............ (step 1 of 2) Processing scaler, total=   0.2s\n",
            "[Pipeline] ........ (step 2 of 2) Processing classifier, total=  15.7s\n",
            "Rain outliers removed\n",
            "              precision    recall  f1-score   support\n",
            "\n",
            "           0       0.87      0.95      0.91     19284\n",
            "           1       0.74      0.49      0.59      5458\n",
            "\n",
            "    accuracy                           0.85     24742\n",
            "   macro avg       0.80      0.72      0.75     24742\n",
            "weighted avg       0.84      0.85      0.84     24742\n",
            "\n",
            "Accuracy of the model is: 84.94462856680947 %\n",
            "Balanced accuracy of the model is: 72.12855439083424 %\n",
            "[[18332   952]\n",
            " [ 2773  2685]]\n"
          ],
          "name": "stdout"
        }
      ]
    },
    {
      "cell_type": "code",
      "metadata": {
        "colab": {
          "base_uri": "https://localhost:8080/"
        },
        "id": "25hPHxX4qZ4b",
        "outputId": "cba329ab-a7c2-4c0e-86fd-9e50ba14f061"
      },
      "source": [
        "results['XGB(simple, outliers)']=report(training(pipe_XGB, X1_train, y1_train, X1_test), y1_test, \"Rain with outliers\")"
      ],
      "execution_count": 24,
      "outputs": [
        {
          "output_type": "stream",
          "text": [
            "CPU times: user 3 µs, sys: 0 ns, total: 3 µs\n",
            "Wall time: 6.91 µs\n",
            "[Pipeline] ............ (step 1 of 2) Processing scaler, total=   0.1s\n",
            "[Pipeline] ........ (step 2 of 2) Processing classifier, total=  15.5s\n",
            "Rain with outliers\n",
            "              precision    recall  f1-score   support\n",
            "\n",
            "           0       0.87      0.95      0.91     19284\n",
            "           1       0.74      0.50      0.60      5458\n",
            "\n",
            "    accuracy                           0.85     24742\n",
            "   macro avg       0.81      0.73      0.75     24742\n",
            "weighted avg       0.84      0.85      0.84     24742\n",
            "\n",
            "Accuracy of the model is: 85.13054724759517 %\n",
            "Balanced accuracy of the model is: 72.51054592065418 %\n",
            "[[18338   946]\n",
            " [ 2733  2725]]\n"
          ],
          "name": "stdout"
        }
      ]
    },
    {
      "cell_type": "code",
      "metadata": {
        "colab": {
          "base_uri": "https://localhost:8080/"
        },
        "id": "2iW-xX9oqcg_",
        "outputId": "b102bcf4-69d5-4078-f659-9b6d6b0576c4"
      },
      "source": [
        "results['XGB(simple, original)']=report(training(pipe_XGB, X2_train, y2_train, X2_test), y2_test, \"original data\")"
      ],
      "execution_count": 25,
      "outputs": [
        {
          "output_type": "stream",
          "text": [
            "CPU times: user 5 µs, sys: 0 ns, total: 5 µs\n",
            "Wall time: 27.4 µs\n",
            "[Pipeline] ............ (step 1 of 2) Processing scaler, total=   0.0s\n",
            "[Pipeline] ........ (step 2 of 2) Processing classifier, total=   3.0s\n",
            "original data\n",
            "              precision    recall  f1-score   support\n",
            "\n",
            "           0       0.87      0.95      0.91      8799\n",
            "           1       0.76      0.51      0.61      2485\n",
            "\n",
            "    accuracy                           0.86     11284\n",
            "   macro avg       0.81      0.73      0.76     11284\n",
            "weighted avg       0.85      0.86      0.85     11284\n",
            "\n",
            "Accuracy of the model is: 85.64338886919532 %\n",
            "Balanced accuracy of the model is: 73.38186637726119 %\n",
            "[[8385  414]\n",
            " [1206 1279]]\n"
          ],
          "name": "stdout"
        }
      ]
    },
    {
      "cell_type": "markdown",
      "metadata": {
        "id": "WM2jKLwrn0-3"
      },
      "source": [
        "Random Forest (simple)"
      ]
    },
    {
      "cell_type": "code",
      "metadata": {
        "colab": {
          "base_uri": "https://localhost:8080/"
        },
        "id": "fLzVvuj_nv7y",
        "outputId": "9bf129d0-b754-4f08-8039-d971cacc3cf9"
      },
      "source": [
        "results['RF(simple, no outliers)']=report(training(pipe_RF, X_train, y_train, X_test), y_test, \"Rain outliers removed\")"
      ],
      "execution_count": 26,
      "outputs": [
        {
          "output_type": "stream",
          "text": [
            "CPU times: user 4 µs, sys: 0 ns, total: 4 µs\n",
            "Wall time: 7.15 µs\n",
            "[Pipeline] ............ (step 1 of 2) Processing scaler, total=   0.2s\n",
            "[Pipeline] ........ (step 2 of 2) Processing classifier, total=  24.6s\n",
            "Rain outliers removed\n",
            "              precision    recall  f1-score   support\n",
            "\n",
            "           0       0.87      0.96      0.91     19284\n",
            "           1       0.76      0.49      0.59      5458\n",
            "\n",
            "    accuracy                           0.85     24742\n",
            "   macro avg       0.81      0.72      0.75     24742\n",
            "weighted avg       0.84      0.85      0.84     24742\n",
            "\n",
            "Accuracy of the model is: 85.26392369250667 %\n",
            "Balanced accuracy of the model is: 72.16261832831186 %\n",
            "[[18437   847]\n",
            " [ 2799  2659]]\n"
          ],
          "name": "stdout"
        }
      ]
    },
    {
      "cell_type": "code",
      "metadata": {
        "colab": {
          "base_uri": "https://localhost:8080/"
        },
        "id": "9z_xuINorBOS",
        "outputId": "37b2efde-c31f-4d3b-a06b-570195926cb3"
      },
      "source": [
        "results['RF(simple, outliers)']=report(training(pipe_RF, X1_train, y1_train, X1_test), y1_test, \"Rain with outliers\")"
      ],
      "execution_count": 27,
      "outputs": [
        {
          "output_type": "stream",
          "text": [
            "CPU times: user 3 µs, sys: 0 ns, total: 3 µs\n",
            "Wall time: 7.15 µs\n",
            "[Pipeline] ............ (step 1 of 2) Processing scaler, total=   0.2s\n",
            "[Pipeline] ........ (step 2 of 2) Processing classifier, total=  24.7s\n",
            "Rain with outliers\n",
            "              precision    recall  f1-score   support\n",
            "\n",
            "           0       0.87      0.96      0.91     19284\n",
            "           1       0.76      0.49      0.60      5458\n",
            "\n",
            "    accuracy                           0.85     24742\n",
            "   macro avg       0.81      0.73      0.75     24742\n",
            "weighted avg       0.85      0.85      0.84     24742\n",
            "\n",
            "Accuracy of the model is: 85.40134184787001 %\n",
            "Balanced accuracy of the model is: 72.52006402306266 %\n",
            "[[18430   854]\n",
            " [ 2758  2700]]\n"
          ],
          "name": "stdout"
        }
      ]
    },
    {
      "cell_type": "code",
      "metadata": {
        "colab": {
          "base_uri": "https://localhost:8080/"
        },
        "id": "K7b0bwxvrBWn",
        "outputId": "493fc882-3628-41df-bcb0-118e220c2413"
      },
      "source": [
        "results['RF(simple, original)']=report(training(pipe_RF, X2_train, y2_train, X2_test), y2_test, \"original data\")"
      ],
      "execution_count": 28,
      "outputs": [
        {
          "output_type": "stream",
          "text": [
            "CPU times: user 4 µs, sys: 0 ns, total: 4 µs\n",
            "Wall time: 7.63 µs\n",
            "[Pipeline] ............ (step 1 of 2) Processing scaler, total=   0.0s\n",
            "[Pipeline] ........ (step 2 of 2) Processing classifier, total=   9.8s\n",
            "original data\n",
            "              precision    recall  f1-score   support\n",
            "\n",
            "           0       0.88      0.96      0.92      8799\n",
            "           1       0.78      0.53      0.63      2485\n",
            "\n",
            "    accuracy                           0.86     11284\n",
            "   macro avg       0.83      0.74      0.77     11284\n",
            "weighted avg       0.86      0.86      0.85     11284\n",
            "\n",
            "Accuracy of the model is: 86.29032258064517 %\n",
            "Balanced accuracy of the model is: 74.37421666034392 %\n",
            "[[8418  381]\n",
            " [1166 1319]]\n"
          ],
          "name": "stdout"
        }
      ]
    },
    {
      "cell_type": "markdown",
      "metadata": {
        "id": "1v6L3jL01Rsz"
      },
      "source": [
        "### 5.2 Class weight approach"
      ]
    },
    {
      "cell_type": "markdown",
      "metadata": {
        "id": "lr1kUrGprjua"
      },
      "source": [
        "LGBM (class weight)"
      ]
    },
    {
      "cell_type": "code",
      "metadata": {
        "colab": {
          "base_uri": "https://localhost:8080/"
        },
        "id": "qtGhzphorkPf",
        "outputId": "b86aaf79-cae8-47ad-f14a-0ca3df22598e"
      },
      "source": [
        "results['LGBM(weights, no outliers)']=report(training(pipe_LGBM_weight, X_train, y_train, X_test), y_test, \"Rain outliers removed\")"
      ],
      "execution_count": 29,
      "outputs": [
        {
          "output_type": "stream",
          "text": [
            "CPU times: user 4 µs, sys: 0 ns, total: 4 µs\n",
            "Wall time: 7.63 µs\n",
            "[Pipeline] ............ (step 1 of 2) Processing scaler, total=   0.2s\n",
            "[Pipeline] ........ (step 2 of 2) Processing classifier, total=   6.2s\n",
            "Rain outliers removed\n",
            "              precision    recall  f1-score   support\n",
            "\n",
            "           0       0.93      0.80      0.86     19284\n",
            "           1       0.53      0.79      0.63      5458\n",
            "\n",
            "    accuracy                           0.80     24742\n",
            "   macro avg       0.73      0.80      0.75     24742\n",
            "weighted avg       0.84      0.80      0.81     24742\n",
            "\n",
            "Accuracy of the model is: 79.98544984237328 %\n",
            "Balanced accuracy of the model is: 79.52170765816373 %\n",
            "[[15495  3789]\n",
            " [ 1163  4295]]\n"
          ],
          "name": "stdout"
        }
      ]
    },
    {
      "cell_type": "code",
      "metadata": {
        "colab": {
          "base_uri": "https://localhost:8080/"
        },
        "id": "oRSr3OSXrkW3",
        "outputId": "5fcc95c2-30a6-4e62-a5eb-e854b0d51749"
      },
      "source": [
        "results['LGBM(weights, outliers)']=report(training(pipe_LGBM_weight, X1_train, y1_train, X1_test), y1_test, \"Rain with outliers\")"
      ],
      "execution_count": 30,
      "outputs": [
        {
          "output_type": "stream",
          "text": [
            "CPU times: user 5 µs, sys: 0 ns, total: 5 µs\n",
            "Wall time: 7.87 µs\n",
            "[Pipeline] ............ (step 1 of 2) Processing scaler, total=   0.2s\n",
            "[Pipeline] ........ (step 2 of 2) Processing classifier, total=   6.3s\n",
            "Rain with outliers\n",
            "              precision    recall  f1-score   support\n",
            "\n",
            "           0       0.93      0.81      0.87     19284\n",
            "           1       0.54      0.79      0.64      5458\n",
            "\n",
            "    accuracy                           0.81     24742\n",
            "   macro avg       0.74      0.80      0.75     24742\n",
            "weighted avg       0.85      0.81      0.82     24742\n",
            "\n",
            "Accuracy of the model is: 80.59574812060464 %\n",
            "Balanced accuracy of the model is: 80.03801673377033 %\n",
            "[[15627  3657]\n",
            " [ 1144  4314]]\n"
          ],
          "name": "stdout"
        }
      ]
    },
    {
      "cell_type": "code",
      "metadata": {
        "colab": {
          "base_uri": "https://localhost:8080/"
        },
        "id": "9Chp1iFErkd-",
        "outputId": "05716f75-f912-4b17-b618-1e764011aeae"
      },
      "source": [
        "results['LGBM(weights, original)']=report(training(pipe_LGBM_weight, X2_train, y2_train, X2_test), y2_test, \"original data\")"
      ],
      "execution_count": 31,
      "outputs": [
        {
          "output_type": "stream",
          "text": [
            "CPU times: user 3 µs, sys: 0 ns, total: 3 µs\n",
            "Wall time: 7.87 µs\n",
            "[Pipeline] ............ (step 1 of 2) Processing scaler, total=   0.0s\n",
            "[Pipeline] ........ (step 2 of 2) Processing classifier, total=   1.2s\n",
            "original data\n",
            "              precision    recall  f1-score   support\n",
            "\n",
            "           0       0.94      0.82      0.88      8799\n",
            "           1       0.56      0.80      0.66      2485\n",
            "\n",
            "    accuracy                           0.82     11284\n",
            "   macro avg       0.75      0.81      0.77     11284\n",
            "weighted avg       0.85      0.82      0.83     11284\n",
            "\n",
            "Accuracy of the model is: 81.86813186813187 %\n",
            "Balanced accuracy of the model is: 81.32780773743495 %\n",
            "[[7241 1558]\n",
            " [ 488 1997]]\n"
          ],
          "name": "stdout"
        }
      ]
    },
    {
      "cell_type": "markdown",
      "metadata": {
        "id": "EMipfP3Xrkqf"
      },
      "source": [
        "XGBoost (class weight)"
      ]
    },
    {
      "cell_type": "code",
      "metadata": {
        "colab": {
          "base_uri": "https://localhost:8080/"
        },
        "id": "4swaWNY-rk0f",
        "outputId": "97cfc77f-04e6-4518-e4c4-03111af1e1d0"
      },
      "source": [
        "results['XGB(weights, no outliers)']=report(training(pipe_XGB_weight(y_train), X_train, y_train, X_test), y_test, \"Rain outliers removed\")"
      ],
      "execution_count": 32,
      "outputs": [
        {
          "output_type": "stream",
          "text": [
            "CPU times: user 3 µs, sys: 0 ns, total: 3 µs\n",
            "Wall time: 6.44 µs\n",
            "[Pipeline] ............ (step 1 of 2) Processing scaler, total=   0.2s\n",
            "[Pipeline] ........ (step 2 of 2) Processing classifier, total=  15.5s\n",
            "Rain outliers removed\n",
            "              precision    recall  f1-score   support\n",
            "\n",
            "           0       0.93      0.79      0.85     19284\n",
            "           1       0.51      0.78      0.62      5458\n",
            "\n",
            "    accuracy                           0.79     24742\n",
            "   macro avg       0.72      0.78      0.74     24742\n",
            "weighted avg       0.84      0.79      0.80     24742\n",
            "\n",
            "Accuracy of the model is: 78.81739552178482 %\n",
            "Balanced accuracy of the model is: 78.46368383132638 %\n",
            "[[15253  4031]\n",
            " [ 1210  4248]]\n"
          ],
          "name": "stdout"
        }
      ]
    },
    {
      "cell_type": "code",
      "metadata": {
        "colab": {
          "base_uri": "https://localhost:8080/"
        },
        "id": "RhEKy_IHrk6v",
        "outputId": "72f2a299-f986-48cf-fb81-053455b948e5"
      },
      "source": [
        "results['XGB(weights, outliers)']=report(training(pipe_XGB_weight(y1_train), X1_train, y1_train, X1_test), y1_test, \"Rain with outliers\")"
      ],
      "execution_count": 33,
      "outputs": [
        {
          "output_type": "stream",
          "text": [
            "CPU times: user 2 µs, sys: 0 ns, total: 2 µs\n",
            "Wall time: 5.96 µs\n",
            "[Pipeline] ............ (step 1 of 2) Processing scaler, total=   0.2s\n",
            "[Pipeline] ........ (step 2 of 2) Processing classifier, total=  15.5s\n",
            "Rain with outliers\n",
            "              precision    recall  f1-score   support\n",
            "\n",
            "           0       0.93      0.80      0.86     19284\n",
            "           1       0.52      0.78      0.62      5458\n",
            "\n",
            "    accuracy                           0.79     24742\n",
            "   macro avg       0.72      0.79      0.74     24742\n",
            "weighted avg       0.84      0.79      0.81     24742\n",
            "\n",
            "Accuracy of the model is: 79.27410880284536 %\n",
            "Balanced accuracy of the model is: 78.78951304635599 %\n",
            "[[15361  3923]\n",
            " [ 1205  4253]]\n"
          ],
          "name": "stdout"
        }
      ]
    },
    {
      "cell_type": "code",
      "metadata": {
        "colab": {
          "base_uri": "https://localhost:8080/"
        },
        "id": "guKWsPVXrk_S",
        "outputId": "16eed809-cc65-406c-b889-32fed943e4be"
      },
      "source": [
        "results['XGB(weights, original)']=report(training(pipe_XGB_weight(y2_train), X2_train, y2_train, X2_test), y2_test, \"original data\")"
      ],
      "execution_count": 34,
      "outputs": [
        {
          "output_type": "stream",
          "text": [
            "CPU times: user 3 µs, sys: 0 ns, total: 3 µs\n",
            "Wall time: 6.2 µs\n",
            "[Pipeline] ............ (step 1 of 2) Processing scaler, total=   0.0s\n",
            "[Pipeline] ........ (step 2 of 2) Processing classifier, total=   3.0s\n",
            "original data\n",
            "              precision    recall  f1-score   support\n",
            "\n",
            "           0       0.94      0.80      0.86      8799\n",
            "           1       0.53      0.81      0.64      2485\n",
            "\n",
            "    accuracy                           0.80     11284\n",
            "   macro avg       0.74      0.81      0.75     11284\n",
            "weighted avg       0.85      0.80      0.82     11284\n",
            "\n",
            "Accuracy of the model is: 80.27295285359801 %\n",
            "Balanced accuracy of the model is: 80.56485292022622 %\n",
            "[[7043 1756]\n",
            " [ 470 2015]]\n"
          ],
          "name": "stdout"
        }
      ]
    },
    {
      "cell_type": "markdown",
      "metadata": {
        "id": "-0VzpF0MrlNv"
      },
      "source": [
        "Random Forest (class weight)"
      ]
    },
    {
      "cell_type": "code",
      "metadata": {
        "colab": {
          "base_uri": "https://localhost:8080/"
        },
        "id": "OzER0YGjrlYn",
        "outputId": "70fcf0fa-7b36-4b40-d30e-037a0c2451b5"
      },
      "source": [
        "results['RF(weights, no outliers)']=report(training(pipe_RF_weight, X_train, y_train, X_test), y_test, \"Rain outliers removed\")"
      ],
      "execution_count": 35,
      "outputs": [
        {
          "output_type": "stream",
          "text": [
            "CPU times: user 4 µs, sys: 0 ns, total: 4 µs\n",
            "Wall time: 8.82 µs\n",
            "[Pipeline] ............ (step 1 of 2) Processing scaler, total=   0.2s\n",
            "[Pipeline] ........ (step 2 of 2) Processing classifier, total=  24.0s\n",
            "Rain outliers removed\n",
            "              precision    recall  f1-score   support\n",
            "\n",
            "           0       0.86      0.96      0.91     19284\n",
            "           1       0.76      0.46      0.58      5458\n",
            "\n",
            "    accuracy                           0.85     24742\n",
            "   macro avg       0.81      0.71      0.74     24742\n",
            "weighted avg       0.84      0.85      0.84     24742\n",
            "\n",
            "Accuracy of the model is: 85.00121251313556 %\n",
            "Balanced accuracy of the model is: 71.17964765577251 %\n",
            "[[18496   788]\n",
            " [ 2923  2535]]\n"
          ],
          "name": "stdout"
        }
      ]
    },
    {
      "cell_type": "code",
      "metadata": {
        "colab": {
          "base_uri": "https://localhost:8080/"
        },
        "id": "uakK5xr7rlfP",
        "outputId": "82bcbffa-b657-4c8a-fecb-c1ec6327187c"
      },
      "source": [
        "results['RF(weights, outliers)']=report(training(pipe_RF_weight, X1_train, y1_train, X1_test), y1_test, \"Rain with outliers\")"
      ],
      "execution_count": 36,
      "outputs": [
        {
          "output_type": "stream",
          "text": [
            "CPU times: user 3 µs, sys: 0 ns, total: 3 µs\n",
            "Wall time: 7.15 µs\n",
            "[Pipeline] ............ (step 1 of 2) Processing scaler, total=   0.2s\n",
            "[Pipeline] ........ (step 2 of 2) Processing classifier, total=  24.3s\n",
            "Rain with outliers\n",
            "              precision    recall  f1-score   support\n",
            "\n",
            "           0       0.87      0.96      0.91     19284\n",
            "           1       0.76      0.48      0.59      5458\n",
            "\n",
            "    accuracy                           0.85     24742\n",
            "   macro avg       0.81      0.72      0.75     24742\n",
            "weighted avg       0.84      0.85      0.84     24742\n",
            "\n",
            "Accuracy of the model is: 85.21542316708431 %\n",
            "Balanced accuracy of the model is: 71.96730340852578 %\n",
            "[[18450   834]\n",
            " [ 2824  2634]]\n"
          ],
          "name": "stdout"
        }
      ]
    },
    {
      "cell_type": "code",
      "metadata": {
        "colab": {
          "base_uri": "https://localhost:8080/"
        },
        "id": "QgeHUJVFrlkZ",
        "outputId": "be66222f-01f0-479d-e66c-abbf3b4762c4"
      },
      "source": [
        "results['RF(weights, original)']=report(training(pipe_RF_weight, X2_train, y2_train, X2_test), y2_test, \"original data\")"
      ],
      "execution_count": 37,
      "outputs": [
        {
          "output_type": "stream",
          "text": [
            "CPU times: user 4 µs, sys: 0 ns, total: 4 µs\n",
            "Wall time: 8.11 µs\n",
            "[Pipeline] ............ (step 1 of 2) Processing scaler, total=   0.0s\n",
            "[Pipeline] ........ (step 2 of 2) Processing classifier, total=   9.6s\n",
            "original data\n",
            "              precision    recall  f1-score   support\n",
            "\n",
            "           0       0.87      0.96      0.91      8799\n",
            "           1       0.78      0.50      0.61      2485\n",
            "\n",
            "    accuracy                           0.86     11284\n",
            "   macro avg       0.83      0.73      0.76     11284\n",
            "weighted avg       0.85      0.86      0.85     11284\n",
            "\n",
            "Accuracy of the model is: 85.9269762495569 %\n",
            "Balanced accuracy of the model is: 72.98617480539562 %\n",
            "[[8457  342]\n",
            " [1246 1239]]\n"
          ],
          "name": "stdout"
        }
      ]
    },
    {
      "cell_type": "markdown",
      "metadata": {
        "id": "ymmBkiwfyLaG"
      },
      "source": [
        "### 5.3 Oversampling"
      ]
    },
    {
      "cell_type": "code",
      "metadata": {
        "colab": {
          "base_uri": "https://localhost:8080/"
        },
        "id": "qtmYX6J2yLmD",
        "outputId": "93edc642-465d-413c-df1f-f65f5ed770ef"
      },
      "source": [
        "oversample = SMOTE() \n",
        "X_traino, y_traino = oversample.fit_resample(X_train, y_train)\n",
        "X1_traino, y1_traino = oversample.fit_resample(X1_train, y1_train) \n",
        "X2_traino, y2_traino = oversample.fit_resample(X2_train, y2_train)  "
      ],
      "execution_count": 38,
      "outputs": [
        {
          "output_type": "stream",
          "text": [
            "/usr/local/lib/python3.7/dist-packages/sklearn/utils/deprecation.py:87: FutureWarning: Function safe_indexing is deprecated; safe_indexing is deprecated in version 0.22 and will be removed in version 0.24.\n",
            "  warnings.warn(msg, category=FutureWarning)\n",
            "/usr/local/lib/python3.7/dist-packages/sklearn/utils/deprecation.py:87: FutureWarning: Function safe_indexing is deprecated; safe_indexing is deprecated in version 0.22 and will be removed in version 0.24.\n",
            "  warnings.warn(msg, category=FutureWarning)\n",
            "/usr/local/lib/python3.7/dist-packages/sklearn/utils/deprecation.py:87: FutureWarning: Function safe_indexing is deprecated; safe_indexing is deprecated in version 0.22 and will be removed in version 0.24.\n",
            "  warnings.warn(msg, category=FutureWarning)\n"
          ],
          "name": "stderr"
        }
      ]
    },
    {
      "cell_type": "markdown",
      "metadata": {
        "id": "OI7R0HtwxDbQ"
      },
      "source": [
        "LGBM (oversampling)"
      ]
    },
    {
      "cell_type": "code",
      "metadata": {
        "colab": {
          "base_uri": "https://localhost:8080/"
        },
        "id": "Ye7pIaT3xDx7",
        "outputId": "670b180c-0054-4cb9-e64d-d8658895e3eb"
      },
      "source": [
        "results['LGBM(oversampling, no outliers)']=report(training(pipe_LGBM, X_traino, y_traino, X_test), y_test, \"Rain outliers removed\")"
      ],
      "execution_count": 39,
      "outputs": [
        {
          "output_type": "stream",
          "text": [
            "CPU times: user 4 µs, sys: 0 ns, total: 4 µs\n",
            "Wall time: 7.15 µs\n",
            "[Pipeline] ............ (step 1 of 2) Processing scaler, total=   0.2s\n",
            "[Pipeline] ........ (step 2 of 2) Processing classifier, total=  13.0s\n",
            "Rain outliers removed\n",
            "              precision    recall  f1-score   support\n",
            "\n",
            "           0       0.88      0.94      0.91     19284\n",
            "           1       0.72      0.53      0.61      5458\n",
            "\n",
            "    accuracy                           0.85     24742\n",
            "   macro avg       0.80      0.74      0.76     24742\n",
            "weighted avg       0.84      0.85      0.84     24742\n",
            "\n",
            "Accuracy of the model is: 85.1386306684989 %\n",
            "Balanced accuracy of the model is: 73.57975432540653 %\n",
            "[[18178  1106]\n",
            " [ 2571  2887]]\n"
          ],
          "name": "stdout"
        }
      ]
    },
    {
      "cell_type": "code",
      "metadata": {
        "colab": {
          "base_uri": "https://localhost:8080/"
        },
        "id": "oELNm0KhxD6h",
        "outputId": "1a62c44e-06d2-4328-c9e5-4bc34bafc0c3"
      },
      "source": [
        "results['LGBM(oversampling, outliers)']=report(training(pipe_LGBM, X1_traino, y1_traino, X1_test), y1_test, \"Rain with outliers\")"
      ],
      "execution_count": 40,
      "outputs": [
        {
          "output_type": "stream",
          "text": [
            "CPU times: user 3 µs, sys: 0 ns, total: 3 µs\n",
            "Wall time: 8.11 µs\n",
            "[Pipeline] ............ (step 1 of 2) Processing scaler, total=   0.3s\n",
            "[Pipeline] ........ (step 2 of 2) Processing classifier, total=  12.8s\n",
            "Rain with outliers\n",
            "              precision    recall  f1-score   support\n",
            "\n",
            "           0       0.88      0.94      0.91     19284\n",
            "           1       0.73      0.54      0.62      5458\n",
            "\n",
            "    accuracy                           0.86     24742\n",
            "   macro avg       0.81      0.74      0.77     24742\n",
            "weighted avg       0.85      0.86      0.85     24742\n",
            "\n",
            "Accuracy of the model is: 85.57513539730014 %\n",
            "Balanced accuracy of the model is: 74.39835863753828 %\n",
            "[[18204  1080]\n",
            " [ 2489  2969]]\n"
          ],
          "name": "stdout"
        }
      ]
    },
    {
      "cell_type": "code",
      "metadata": {
        "colab": {
          "base_uri": "https://localhost:8080/"
        },
        "id": "MIMWZRGUxEEZ",
        "outputId": "10de33cc-1669-4498-9cfe-b79370c6f485"
      },
      "source": [
        "results['LGBM(oversampling, original)']=report(training(pipe_LGBM, X2_traino, y2_traino, X2_test), y2_test, \"original data\")"
      ],
      "execution_count": 41,
      "outputs": [
        {
          "output_type": "stream",
          "text": [
            "CPU times: user 3 µs, sys: 0 ns, total: 3 µs\n",
            "Wall time: 7.39 µs\n",
            "[Pipeline] ............ (step 1 of 2) Processing scaler, total=   0.0s\n",
            "[Pipeline] ........ (step 2 of 2) Processing classifier, total=   2.1s\n",
            "original data\n",
            "              precision    recall  f1-score   support\n",
            "\n",
            "           0       0.89      0.94      0.91      8799\n",
            "           1       0.73      0.60      0.66      2485\n",
            "\n",
            "    accuracy                           0.86     11284\n",
            "   macro avg       0.81      0.77      0.78     11284\n",
            "weighted avg       0.86      0.86      0.86     11284\n",
            "\n",
            "Accuracy of the model is: 86.21942573555476 %\n",
            "Balanced accuracy of the model is: 76.65331687819838 %\n",
            "[[8249  550]\n",
            " [1005 1480]]\n"
          ],
          "name": "stdout"
        }
      ]
    },
    {
      "cell_type": "markdown",
      "metadata": {
        "id": "soexRAe4xEUi"
      },
      "source": [
        "XGBoost (oversampling)"
      ]
    },
    {
      "cell_type": "code",
      "metadata": {
        "colab": {
          "base_uri": "https://localhost:8080/"
        },
        "id": "mfKZOK2-xEdm",
        "outputId": "ab9f9b9c-9111-4971-9066-85732a4e843c"
      },
      "source": [
        "results['XGB(oversampling, no outliers)']=report(training(pipe_XGB, X_traino, y_traino, X_test), y_test, \"Rain outliers removed\")"
      ],
      "execution_count": 42,
      "outputs": [
        {
          "output_type": "stream",
          "text": [
            "CPU times: user 3 µs, sys: 0 ns, total: 3 µs\n",
            "Wall time: 7.39 µs\n",
            "[Pipeline] ............ (step 1 of 2) Processing scaler, total=   0.2s\n",
            "[Pipeline] ........ (step 2 of 2) Processing classifier, total=  31.3s\n",
            "Rain outliers removed\n",
            "              precision    recall  f1-score   support\n",
            "\n",
            "           0       0.89      0.92      0.90     19284\n",
            "           1       0.66      0.58      0.62      5458\n",
            "\n",
            "    accuracy                           0.84     24742\n",
            "   macro avg       0.77      0.75      0.76     24742\n",
            "weighted avg       0.84      0.84      0.84     24742\n",
            "\n",
            "Accuracy of the model is: 84.17266187050359 %\n",
            "Balanced accuracy of the model is: 74.83852954457753 %\n",
            "[[17653  1631]\n",
            " [ 2285  3173]]\n"
          ],
          "name": "stdout"
        }
      ]
    },
    {
      "cell_type": "code",
      "metadata": {
        "colab": {
          "base_uri": "https://localhost:8080/"
        },
        "id": "OJiPOwbyxElZ",
        "outputId": "e1b293fe-a158-4fd2-95bb-7698ca523f61"
      },
      "source": [
        "results['XGB(oversampling, outliers)']=report(training(pipe_XGB, X1_traino, y1_traino, X1_test), y1_test, \"Rain with outliers\")"
      ],
      "execution_count": 43,
      "outputs": [
        {
          "output_type": "stream",
          "text": [
            "CPU times: user 0 ns, sys: 4 µs, total: 4 µs\n",
            "Wall time: 7.63 µs\n",
            "[Pipeline] ............ (step 1 of 2) Processing scaler, total=   0.2s\n",
            "[Pipeline] ........ (step 2 of 2) Processing classifier, total=  31.0s\n",
            "Rain with outliers\n",
            "              precision    recall  f1-score   support\n",
            "\n",
            "           0       0.89      0.91      0.90     19284\n",
            "           1       0.65      0.60      0.63      5458\n",
            "\n",
            "    accuracy                           0.84     24742\n",
            "   macro avg       0.77      0.75      0.76     24742\n",
            "weighted avg       0.84      0.84      0.84     24742\n",
            "\n",
            "Accuracy of the model is: 84.14841160779241 %\n",
            "Balanced accuracy of the model is: 75.4732087364513 %\n",
            "[[17548  1736]\n",
            " [ 2186  3272]]\n"
          ],
          "name": "stdout"
        }
      ]
    },
    {
      "cell_type": "code",
      "metadata": {
        "colab": {
          "base_uri": "https://localhost:8080/"
        },
        "id": "srPnMjhhxEqB",
        "outputId": "377f8234-cb18-438f-8df1-1bb966765352"
      },
      "source": [
        "results['XGB(oversampling, original)']=report(training(pipe_XGB, X2_traino, y2_traino, X2_test), y2_test, \"original data\")"
      ],
      "execution_count": 44,
      "outputs": [
        {
          "output_type": "stream",
          "text": [
            "CPU times: user 2 µs, sys: 0 ns, total: 2 µs\n",
            "Wall time: 5.01 µs\n",
            "[Pipeline] ............ (step 1 of 2) Processing scaler, total=   0.0s\n",
            "[Pipeline] ........ (step 2 of 2) Processing classifier, total=   6.5s\n",
            "original data\n",
            "              precision    recall  f1-score   support\n",
            "\n",
            "           0       0.91      0.88      0.89      8799\n",
            "           1       0.62      0.68      0.65      2485\n",
            "\n",
            "    accuracy                           0.84     11284\n",
            "   macro avg       0.76      0.78      0.77     11284\n",
            "weighted avg       0.84      0.84      0.84     11284\n",
            "\n",
            "Accuracy of the model is: 83.79120879120879 %\n",
            "Balanced accuracy of the model is: 78.18610949707794 %\n",
            "[[7761 1038]\n",
            " [ 791 1694]]\n"
          ],
          "name": "stdout"
        }
      ]
    },
    {
      "cell_type": "markdown",
      "metadata": {
        "id": "MqQru0mTxE1S"
      },
      "source": [
        "Random Forest (oversampling)"
      ]
    },
    {
      "cell_type": "code",
      "metadata": {
        "colab": {
          "base_uri": "https://localhost:8080/"
        },
        "id": "1TDVHmfdxFAg",
        "outputId": "ff6ab929-a943-40d4-860c-36be64b6aa68"
      },
      "source": [
        "results['RF(oversampling, no outliers)']=report(training(pipe_RF, X_traino, y_traino, X_test), y_test, \"Rain outliers removed\")"
      ],
      "execution_count": 45,
      "outputs": [
        {
          "output_type": "stream",
          "text": [
            "CPU times: user 2 µs, sys: 0 ns, total: 2 µs\n",
            "Wall time: 5.72 µs\n",
            "[Pipeline] ............ (step 1 of 2) Processing scaler, total=   0.3s\n",
            "[Pipeline] ........ (step 2 of 2) Processing classifier, total=  51.9s\n",
            "Rain outliers removed\n",
            "              precision    recall  f1-score   support\n",
            "\n",
            "           0       0.88      0.94      0.91     19284\n",
            "           1       0.71      0.55      0.62      5458\n",
            "\n",
            "    accuracy                           0.85     24742\n",
            "   macro avg       0.80      0.74      0.76     24742\n",
            "weighted avg       0.84      0.85      0.84     24742\n",
            "\n",
            "Accuracy of the model is: 85.106296984884 %\n",
            "Balanced accuracy of the model is: 74.18954374598916 %\n",
            "[[18074  1210]\n",
            " [ 2475  2983]]\n"
          ],
          "name": "stdout"
        }
      ]
    },
    {
      "cell_type": "code",
      "metadata": {
        "colab": {
          "base_uri": "https://localhost:8080/"
        },
        "id": "CCg7qUNnxFHs",
        "outputId": "c174e99e-4b0e-4585-c266-f2f83c74ec45"
      },
      "source": [
        "results['RF(oversampling, outliers)']=report(training(pipe_RF, X1_traino, y1_traino, X1_test), y1_test, \"Rain with outliers\")"
      ],
      "execution_count": 46,
      "outputs": [
        {
          "output_type": "stream",
          "text": [
            "CPU times: user 3 µs, sys: 0 ns, total: 3 µs\n",
            "Wall time: 5.72 µs\n",
            "[Pipeline] ............ (step 1 of 2) Processing scaler, total=   0.2s\n",
            "[Pipeline] ........ (step 2 of 2) Processing classifier, total=  51.3s\n",
            "Rain with outliers\n",
            "              precision    recall  f1-score   support\n",
            "\n",
            "           0       0.88      0.94      0.91     19284\n",
            "           1       0.71      0.56      0.63      5458\n",
            "\n",
            "    accuracy                           0.85     24742\n",
            "   macro avg       0.80      0.75      0.77     24742\n",
            "weighted avg       0.85      0.85      0.85     24742\n",
            "\n",
            "Accuracy of the model is: 85.33667448064021 %\n",
            "Balanced accuracy of the model is: 74.79052953940896 %\n",
            "[[18062  1222]\n",
            " [ 2406  3052]]\n"
          ],
          "name": "stdout"
        }
      ]
    },
    {
      "cell_type": "code",
      "metadata": {
        "colab": {
          "base_uri": "https://localhost:8080/"
        },
        "id": "rGChnI2txFMP",
        "outputId": "1fddcc1d-e8a4-4952-d41d-609384af985e"
      },
      "source": [
        "results['RF(oversampling, original)']=report(training(pipe_RF, X2_traino, y2_traino, X2_test), y2_test, \"original data\")"
      ],
      "execution_count": 47,
      "outputs": [
        {
          "output_type": "stream",
          "text": [
            "CPU times: user 4 µs, sys: 0 ns, total: 4 µs\n",
            "Wall time: 7.39 µs\n",
            "[Pipeline] ............ (step 1 of 2) Processing scaler, total=   0.0s\n",
            "[Pipeline] ........ (step 2 of 2) Processing classifier, total=  21.6s\n",
            "original data\n",
            "              precision    recall  f1-score   support\n",
            "\n",
            "           0       0.90      0.91      0.91      8799\n",
            "           1       0.68      0.64      0.66      2485\n",
            "\n",
            "    accuracy                           0.86     11284\n",
            "   macro avg       0.79      0.78      0.78     11284\n",
            "weighted avg       0.85      0.86      0.85     11284\n",
            "\n",
            "Accuracy of the model is: 85.51931939028712 %\n",
            "Balanced accuracy of the model is: 77.92255521994336 %\n",
            "[[8051  748]\n",
            " [ 886 1599]]\n"
          ],
          "name": "stdout"
        }
      ]
    },
    {
      "cell_type": "markdown",
      "metadata": {
        "id": "PB4GwIpXyRoO"
      },
      "source": [
        "### 5.4 Undersampling"
      ]
    },
    {
      "cell_type": "code",
      "metadata": {
        "id": "uDlugewTyRxZ",
        "colab": {
          "base_uri": "https://localhost:8080/"
        },
        "outputId": "3c1b99d2-6c4a-438b-b178-b6181d10c11f"
      },
      "source": [
        "rus = RandomUnderSampler(random_state=0) \n",
        "X_trainu, y_trainu = rus.fit_resample(X_train, y_train) \n",
        "X1_trainu, y1_trainu = rus.fit_resample(X1_train, y1_train) \n",
        "X2_trainu, y2_trainu = rus.fit_resample(X2_train, y2_train) "
      ],
      "execution_count": 48,
      "outputs": [
        {
          "output_type": "stream",
          "text": [
            "/usr/local/lib/python3.7/dist-packages/sklearn/utils/deprecation.py:87: FutureWarning: Function safe_indexing is deprecated; safe_indexing is deprecated in version 0.22 and will be removed in version 0.24.\n",
            "  warnings.warn(msg, category=FutureWarning)\n",
            "/usr/local/lib/python3.7/dist-packages/sklearn/utils/deprecation.py:87: FutureWarning: Function safe_indexing is deprecated; safe_indexing is deprecated in version 0.22 and will be removed in version 0.24.\n",
            "  warnings.warn(msg, category=FutureWarning)\n",
            "/usr/local/lib/python3.7/dist-packages/sklearn/utils/deprecation.py:87: FutureWarning: Function safe_indexing is deprecated; safe_indexing is deprecated in version 0.22 and will be removed in version 0.24.\n",
            "  warnings.warn(msg, category=FutureWarning)\n"
          ],
          "name": "stderr"
        }
      ]
    },
    {
      "cell_type": "markdown",
      "metadata": {
        "id": "K-KLs1jrxFch"
      },
      "source": [
        "LGBM (undersampling)"
      ]
    },
    {
      "cell_type": "code",
      "metadata": {
        "id": "xn4SiSAkxFpM",
        "colab": {
          "base_uri": "https://localhost:8080/"
        },
        "outputId": "bf970403-0382-4355-9dc8-20cec55e0150"
      },
      "source": [
        "results['LGBM(undersampling, no outliers)']=report(training(pipe_LGBM, X_trainu, y_trainu, X_test), y_test, \"Rain outliers removed\")"
      ],
      "execution_count": 49,
      "outputs": [
        {
          "output_type": "stream",
          "text": [
            "CPU times: user 4 µs, sys: 0 ns, total: 4 µs\n",
            "Wall time: 7.63 µs\n",
            "[Pipeline] ............ (step 1 of 2) Processing scaler, total=   0.1s\n",
            "[Pipeline] ........ (step 2 of 2) Processing classifier, total=   2.8s\n",
            "Rain outliers removed\n",
            "              precision    recall  f1-score   support\n",
            "\n",
            "           0       0.93      0.79      0.86     19284\n",
            "           1       0.52      0.79      0.63      5458\n",
            "\n",
            "    accuracy                           0.79     24742\n",
            "   macro avg       0.73      0.79      0.74     24742\n",
            "weighted avg       0.84      0.79      0.81     24742\n",
            "\n",
            "Accuracy of the model is: 79.28219222374909 %\n",
            "Balanced accuracy of the model is: 79.35955028039734 %\n",
            "[[15277  4007]\n",
            " [ 1119  4339]]\n"
          ],
          "name": "stdout"
        }
      ]
    },
    {
      "cell_type": "code",
      "metadata": {
        "id": "H2_ECnJaxFwY",
        "colab": {
          "base_uri": "https://localhost:8080/"
        },
        "outputId": "796853fe-e3ab-4119-b371-329cb938344c"
      },
      "source": [
        "results['LGBM(undersampling, outliers)']=report(training(pipe_LGBM, X1_trainu, y1_trainu, X1_test), y1_test, \"Rain with outliers\")"
      ],
      "execution_count": 50,
      "outputs": [
        {
          "output_type": "stream",
          "text": [
            "CPU times: user 3 µs, sys: 0 ns, total: 3 µs\n",
            "Wall time: 7.39 µs\n",
            "[Pipeline] ............ (step 1 of 2) Processing scaler, total=   0.1s\n",
            "[Pipeline] ........ (step 2 of 2) Processing classifier, total=   2.8s\n",
            "Rain with outliers\n",
            "              precision    recall  f1-score   support\n",
            "\n",
            "           0       0.93      0.80      0.86     19284\n",
            "           1       0.53      0.80      0.64      5458\n",
            "\n",
            "    accuracy                           0.80     24742\n",
            "   macro avg       0.73      0.80      0.75     24742\n",
            "weighted avg       0.84      0.80      0.81     24742\n",
            "\n",
            "Accuracy of the model is: 79.94503273785466 %\n",
            "Balanced accuracy of the model is: 79.92927018101838 %\n",
            "[[15419  3865]\n",
            " [ 1097  4361]]\n"
          ],
          "name": "stdout"
        }
      ]
    },
    {
      "cell_type": "code",
      "metadata": {
        "id": "_fztsNlAxF4F",
        "colab": {
          "base_uri": "https://localhost:8080/"
        },
        "outputId": "db4141d6-ff22-497e-a001-9b5dd8464fed"
      },
      "source": [
        "results['LGBM(undersampling, original)']=report(training(pipe_LGBM, X2_trainu, y2_trainu, X2_test), y2_test, \"original data\")"
      ],
      "execution_count": 51,
      "outputs": [
        {
          "output_type": "stream",
          "text": [
            "CPU times: user 4 µs, sys: 0 ns, total: 4 µs\n",
            "Wall time: 7.39 µs\n",
            "[Pipeline] ............ (step 1 of 2) Processing scaler, total=   0.0s\n",
            "[Pipeline] ........ (step 2 of 2) Processing classifier, total=   0.6s\n",
            "original data\n",
            "              precision    recall  f1-score   support\n",
            "\n",
            "           0       0.94      0.81      0.87      8799\n",
            "           1       0.55      0.82      0.66      2485\n",
            "\n",
            "    accuracy                           0.82     11284\n",
            "   macro avg       0.75      0.82      0.77     11284\n",
            "weighted avg       0.86      0.82      0.83     11284\n",
            "\n",
            "Accuracy of the model is: 81.5225097483162 %\n",
            "Balanced accuracy of the model is: 81.58265423887798 %\n",
            "[[7169 1630]\n",
            " [ 455 2030]]\n"
          ],
          "name": "stdout"
        }
      ]
    },
    {
      "cell_type": "markdown",
      "metadata": {
        "id": "6epCDbOqxTSN"
      },
      "source": [
        "XGBoost (undersampling)"
      ]
    },
    {
      "cell_type": "code",
      "metadata": {
        "id": "ddnhwR99xTe6",
        "colab": {
          "base_uri": "https://localhost:8080/"
        },
        "outputId": "a1ecf6ac-80a1-44cd-a27b-b3807d83ffb5"
      },
      "source": [
        "results['XGB(undersampling, no outliers)']=report(training(pipe_XGB, X_trainu, y_trainu, X_test), y_test, \"Rain outliers removed\")"
      ],
      "execution_count": 52,
      "outputs": [
        {
          "output_type": "stream",
          "text": [
            "CPU times: user 3 µs, sys: 0 ns, total: 3 µs\n",
            "Wall time: 7.39 µs\n",
            "[Pipeline] ............ (step 1 of 2) Processing scaler, total=   0.1s\n",
            "[Pipeline] ........ (step 2 of 2) Processing classifier, total=   6.4s\n",
            "Rain outliers removed\n",
            "              precision    recall  f1-score   support\n",
            "\n",
            "           0       0.93      0.79      0.85     19284\n",
            "           1       0.51      0.78      0.62      5458\n",
            "\n",
            "    accuracy                           0.79     24742\n",
            "   macro avg       0.72      0.78      0.73     24742\n",
            "weighted avg       0.83      0.79      0.80     24742\n",
            "\n",
            "Accuracy of the model is: 78.53043407970253 %\n",
            "Balanced accuracy of the model is: 78.31900164397713 %\n",
            "[[15176  4108]\n",
            " [ 1204  4254]]\n"
          ],
          "name": "stdout"
        }
      ]
    },
    {
      "cell_type": "code",
      "metadata": {
        "id": "USwJ0jgyxTmV",
        "colab": {
          "base_uri": "https://localhost:8080/"
        },
        "outputId": "e0f5fcdc-9cdd-4f41-f7e7-975a717a93c1"
      },
      "source": [
        "results['XGB(undersampling, outliers)']=report(training(pipe_XGB, X1_trainu, y1_trainu, X1_test), y1_test, \"Rain with outliers\")"
      ],
      "execution_count": 53,
      "outputs": [
        {
          "output_type": "stream",
          "text": [
            "CPU times: user 3 µs, sys: 0 ns, total: 3 µs\n",
            "Wall time: 6.44 µs\n",
            "[Pipeline] ............ (step 1 of 2) Processing scaler, total=   0.1s\n",
            "[Pipeline] ........ (step 2 of 2) Processing classifier, total=   6.4s\n",
            "Rain with outliers\n",
            "              precision    recall  f1-score   support\n",
            "\n",
            "           0       0.93      0.79      0.85     19284\n",
            "           1       0.52      0.78      0.62      5458\n",
            "\n",
            "    accuracy                           0.79     24742\n",
            "   macro avg       0.72      0.79      0.74     24742\n",
            "weighted avg       0.84      0.79      0.80     24742\n",
            "\n",
            "Accuracy of the model is: 78.97098051895563 %\n",
            "Balanced accuracy of the model is: 78.73298019254196 %\n",
            "[[15265  4019]\n",
            " [ 1184  4274]]\n"
          ],
          "name": "stdout"
        }
      ]
    },
    {
      "cell_type": "code",
      "metadata": {
        "id": "bRLeLnuNxTtg",
        "colab": {
          "base_uri": "https://localhost:8080/"
        },
        "outputId": "83ad461c-cc0c-4a52-fd16-edd523947384"
      },
      "source": [
        "results['XGB(undersampling, original)']=report(training(pipe_XGB, X2_trainu, y2_trainu, X2_test), y2_test, \"original data\")"
      ],
      "execution_count": 54,
      "outputs": [
        {
          "output_type": "stream",
          "text": [
            "CPU times: user 2 µs, sys: 0 ns, total: 2 µs\n",
            "Wall time: 5.48 µs\n",
            "[Pipeline] ............ (step 1 of 2) Processing scaler, total=   0.0s\n",
            "[Pipeline] ........ (step 2 of 2) Processing classifier, total=   1.4s\n",
            "original data\n",
            "              precision    recall  f1-score   support\n",
            "\n",
            "           0       0.94      0.80      0.86      8799\n",
            "           1       0.53      0.81      0.64      2485\n",
            "\n",
            "    accuracy                           0.80     11284\n",
            "   macro avg       0.73      0.80      0.75     11284\n",
            "weighted avg       0.85      0.80      0.81     11284\n",
            "\n",
            "Accuracy of the model is: 80.18433179723502 %\n",
            "Balanced accuracy of the model is: 80.36364567676544 %\n",
            "[[7043 1756]\n",
            " [ 480 2005]]\n"
          ],
          "name": "stdout"
        }
      ]
    },
    {
      "cell_type": "markdown",
      "metadata": {
        "id": "z7D1F-9mxT0g"
      },
      "source": [
        "Random Forest (undersampling)"
      ]
    },
    {
      "cell_type": "code",
      "metadata": {
        "id": "3mrNTk8uxT8o",
        "colab": {
          "base_uri": "https://localhost:8080/"
        },
        "outputId": "0f63a399-69c1-4fc8-ad04-bd588f38b40b"
      },
      "source": [
        "results['RF(undersampling, no outliers)']=report(training(pipe_RF, X_trainu, y_trainu, X_test), y_test, \"Rain outliers removed\")"
      ],
      "execution_count": 55,
      "outputs": [
        {
          "output_type": "stream",
          "text": [
            "CPU times: user 0 ns, sys: 4 µs, total: 4 µs\n",
            "Wall time: 7.63 µs\n",
            "[Pipeline] ............ (step 1 of 2) Processing scaler, total=   0.1s\n",
            "[Pipeline] ........ (step 2 of 2) Processing classifier, total=   9.2s\n",
            "Rain outliers removed\n",
            "              precision    recall  f1-score   support\n",
            "\n",
            "           0       0.93      0.79      0.86     19284\n",
            "           1       0.52      0.79      0.63      5458\n",
            "\n",
            "    accuracy                           0.79     24742\n",
            "   macro avg       0.73      0.79      0.74     24742\n",
            "weighted avg       0.84      0.79      0.81     24742\n",
            "\n",
            "Accuracy of the model is: 79.30644248646027 %\n",
            "Balanced accuracy of the model is: 79.21747421751468 %\n",
            "[[15307  3977]\n",
            " [ 1143  4315]]\n"
          ],
          "name": "stdout"
        }
      ]
    },
    {
      "cell_type": "code",
      "metadata": {
        "id": "nJXWtPFixUDm",
        "colab": {
          "base_uri": "https://localhost:8080/"
        },
        "outputId": "ad2f20b9-6c0a-43a6-b84b-c3b3477f5ca2"
      },
      "source": [
        "results['RF(undersampling, outliers)']=report(training(pipe_RF, X1_trainu, y1_trainu, X1_test), y1_test, \"Rain with outliers\")"
      ],
      "execution_count": 56,
      "outputs": [
        {
          "output_type": "stream",
          "text": [
            "CPU times: user 2 µs, sys: 0 ns, total: 2 µs\n",
            "Wall time: 5.25 µs\n",
            "[Pipeline] ............ (step 1 of 2) Processing scaler, total=   0.1s\n",
            "[Pipeline] ........ (step 2 of 2) Processing classifier, total=   9.3s\n",
            "Rain with outliers\n",
            "              precision    recall  f1-score   support\n",
            "\n",
            "           0       0.93      0.80      0.86     19284\n",
            "           1       0.53      0.79      0.63      5458\n",
            "\n",
            "    accuracy                           0.80     24742\n",
            "   macro avg       0.73      0.79      0.75     24742\n",
            "weighted avg       0.84      0.80      0.81     24742\n",
            "\n",
            "Accuracy of the model is: 79.62573761215747 %\n",
            "Balanced accuracy of the model is: 79.41573919798938 %\n",
            "[[15387  3897]\n",
            " [ 1144  4314]]\n"
          ],
          "name": "stdout"
        }
      ]
    },
    {
      "cell_type": "code",
      "metadata": {
        "id": "XXAhGWRIxUH9",
        "colab": {
          "base_uri": "https://localhost:8080/"
        },
        "outputId": "e1e075c7-2c86-4777-cab9-284de38cfba4"
      },
      "source": [
        "results['RF(undersampling, original)']=report(training(pipe_RF, X2_trainu, y2_trainu, X2_test), y2_test, \"original data\")"
      ],
      "execution_count": 57,
      "outputs": [
        {
          "output_type": "stream",
          "text": [
            "CPU times: user 2 µs, sys: 0 ns, total: 2 µs\n",
            "Wall time: 5.72 µs\n",
            "[Pipeline] ............ (step 1 of 2) Processing scaler, total=   0.0s\n",
            "[Pipeline] ........ (step 2 of 2) Processing classifier, total=   4.1s\n",
            "original data\n",
            "              precision    recall  f1-score   support\n",
            "\n",
            "           0       0.94      0.81      0.87      8799\n",
            "           1       0.54      0.81      0.65      2485\n",
            "\n",
            "    accuracy                           0.81     11284\n",
            "   macro avg       0.74      0.81      0.76     11284\n",
            "weighted avg       0.85      0.81      0.82     11284\n",
            "\n",
            "Accuracy of the model is: 80.83126550868487 %\n",
            "Balanced accuracy of the model is: 80.80734206351875 %\n",
            "[[7114 1685]\n",
            " [ 478 2007]]\n"
          ],
          "name": "stdout"
        }
      ]
    },
    {
      "cell_type": "markdown",
      "metadata": {
        "id": "zMP4bPmK042b"
      },
      "source": [
        "## 6. Results - comparison."
      ]
    },
    {
      "cell_type": "markdown",
      "metadata": {
        "id": "SunEAB4oDLSH"
      },
      "source": [
        "### 6.1 Data"
      ]
    },
    {
      "cell_type": "code",
      "metadata": {
        "colab": {
          "base_uri": "https://localhost:8080/"
        },
        "id": "ijs71mEV-VVP",
        "outputId": "6aa606e3-8fb4-4c17-e44d-41cb6c294545"
      },
      "source": [
        "outliers = {'acc':{'simple':{}, 'oversampling':{}, 'undersampling':{}, 'weights':{}}, \n",
        "            'balanced':{'simple':{}, 'oversampling':{}, 'undersampling':{}, 'weights':{}}}\n",
        "no_outliers = {'acc':{'simple':{}, 'oversampling':{}, 'undersampling':{}, 'weights':{}}, \n",
        "            'balanced':{'simple':{}, 'oversampling':{}, 'undersampling':{}, 'weights':{}}}\n",
        "original = {'acc':{'simple':{}, 'oversampling':{}, 'undersampling':{}, 'weights':{}}, \n",
        "            'balanced':{'simple':{}, 'oversampling':{}, 'undersampling':{}, 'weights':{}}}\n",
        "for x in results:\n",
        "  t1 = results[x][0]\n",
        "  t2=results[x][1]\n",
        "  if x.find('LGBM')!=-1:\n",
        "    n='lgbm'\n",
        "  elif x.find('XGB')!=-1:\n",
        "    n='xgb'\n",
        "  else:\n",
        "    n='rf'\n",
        "  if x.find('simple')!=-1:\n",
        "    k='simple'\n",
        "  elif x.find('oversampling')!=-1:\n",
        "    k='oversampling'\n",
        "  elif x.find('undersampling')!=-1:\n",
        "    k='undersampling'\n",
        "  else:\n",
        "    k='weights'\n",
        "  if x.find('no outliers')!=-1:\n",
        "    no_outliers['acc'][k][n]=t1\n",
        "    no_outliers['balanced'][k][n]=t2\n",
        "  elif x.find('outliers')!=-1:\n",
        "    outliers['acc'][k][n]=t1\n",
        "    outliers['balanced'][k][n]=t2\n",
        "  else:\n",
        "    original['acc'][k][n]=t1\n",
        "    original['balanced'][k][n]=t2\n",
        "\n",
        "print(outliers)"
      ],
      "execution_count": 59,
      "outputs": [
        {
          "output_type": "stream",
          "text": [
            "{'acc': {'simple': {'lgbm': 85.58726052865573, 'xgb': 85.13054724759517, 'rf': 85.40134184787001}, 'oversampling': {'lgbm': 85.57513539730014, 'xgb': 84.14841160779241, 'rf': 85.33667448064021}, 'undersampling': {'lgbm': 79.94503273785466, 'xgb': 78.97098051895563, 'rf': 79.62573761215747}, 'weights': {'lgbm': 80.59574812060464, 'xgb': 79.27410880284536, 'rf': 85.21542316708431}}, 'balanced': {'simple': {'lgbm': 73.99891852010286, 'xgb': 72.51054592065418, 'rf': 72.52006402306266}, 'oversampling': {'lgbm': 74.39835863753828, 'xgb': 75.4732087364513, 'rf': 74.79052953940896}, 'undersampling': {'lgbm': 79.92927018101838, 'xgb': 78.73298019254196, 'rf': 79.41573919798938}, 'weights': {'lgbm': 80.03801673377033, 'xgb': 78.78951304635599, 'rf': 71.96730340852578}}}\n"
          ],
          "name": "stdout"
        }
      ]
    },
    {
      "cell_type": "code",
      "metadata": {
        "id": "mdzylYJXHhTr"
      },
      "source": [
        "def transform(dict):\n",
        "  return pd.DataFrame.from_dict({(i,j): dict[i][j] \n",
        "                           for i in dict.keys() \n",
        "                           for j in dict[i].keys()},\n",
        "                       orient='index')"
      ],
      "execution_count": 60,
      "outputs": []
    },
    {
      "cell_type": "markdown",
      "metadata": {
        "id": "KHKiel9J8C8t"
      },
      "source": [
        "### 6.2 Accuracy and balanced accuracy"
      ]
    },
    {
      "cell_type": "code",
      "metadata": {
        "colab": {
          "base_uri": "https://localhost:8080/",
          "height": 936
        },
        "id": "OXOJfNs_LFTW",
        "outputId": "db90a8f2-0b12-455c-bf07-df5c4e22792e"
      },
      "source": [
        "print('\\nrain with outliers')\n",
        "display(transform(outliers))\n",
        "print('\\nrain outliers removed')\n",
        "display(transform(no_outliers))\n",
        "print('\\noriginal dataset')\n",
        "display(transform(original))"
      ],
      "execution_count": 68,
      "outputs": [
        {
          "output_type": "stream",
          "text": [
            "\n",
            "rain with outliers\n"
          ],
          "name": "stdout"
        },
        {
          "output_type": "display_data",
          "data": {
            "text/html": [
              "<div>\n",
              "<style scoped>\n",
              "    .dataframe tbody tr th:only-of-type {\n",
              "        vertical-align: middle;\n",
              "    }\n",
              "\n",
              "    .dataframe tbody tr th {\n",
              "        vertical-align: top;\n",
              "    }\n",
              "\n",
              "    .dataframe thead th {\n",
              "        text-align: right;\n",
              "    }\n",
              "</style>\n",
              "<table border=\"1\" class=\"dataframe\">\n",
              "  <thead>\n",
              "    <tr style=\"text-align: right;\">\n",
              "      <th></th>\n",
              "      <th></th>\n",
              "      <th>lgbm</th>\n",
              "      <th>xgb</th>\n",
              "      <th>rf</th>\n",
              "    </tr>\n",
              "  </thead>\n",
              "  <tbody>\n",
              "    <tr>\n",
              "      <th rowspan=\"4\" valign=\"top\">acc</th>\n",
              "      <th>simple</th>\n",
              "      <td>85.587261</td>\n",
              "      <td>85.130547</td>\n",
              "      <td>85.401342</td>\n",
              "    </tr>\n",
              "    <tr>\n",
              "      <th>oversampling</th>\n",
              "      <td>85.575135</td>\n",
              "      <td>84.148412</td>\n",
              "      <td>85.336674</td>\n",
              "    </tr>\n",
              "    <tr>\n",
              "      <th>undersampling</th>\n",
              "      <td>79.945033</td>\n",
              "      <td>78.970981</td>\n",
              "      <td>79.625738</td>\n",
              "    </tr>\n",
              "    <tr>\n",
              "      <th>weights</th>\n",
              "      <td>80.595748</td>\n",
              "      <td>79.274109</td>\n",
              "      <td>85.215423</td>\n",
              "    </tr>\n",
              "    <tr>\n",
              "      <th rowspan=\"4\" valign=\"top\">balanced</th>\n",
              "      <th>simple</th>\n",
              "      <td>73.998919</td>\n",
              "      <td>72.510546</td>\n",
              "      <td>72.520064</td>\n",
              "    </tr>\n",
              "    <tr>\n",
              "      <th>oversampling</th>\n",
              "      <td>74.398359</td>\n",
              "      <td>75.473209</td>\n",
              "      <td>74.790530</td>\n",
              "    </tr>\n",
              "    <tr>\n",
              "      <th>undersampling</th>\n",
              "      <td>79.929270</td>\n",
              "      <td>78.732980</td>\n",
              "      <td>79.415739</td>\n",
              "    </tr>\n",
              "    <tr>\n",
              "      <th>weights</th>\n",
              "      <td>80.038017</td>\n",
              "      <td>78.789513</td>\n",
              "      <td>71.967303</td>\n",
              "    </tr>\n",
              "  </tbody>\n",
              "</table>\n",
              "</div>"
            ],
            "text/plain": [
              "                             lgbm        xgb         rf\n",
              "acc      simple         85.587261  85.130547  85.401342\n",
              "         oversampling   85.575135  84.148412  85.336674\n",
              "         undersampling  79.945033  78.970981  79.625738\n",
              "         weights        80.595748  79.274109  85.215423\n",
              "balanced simple         73.998919  72.510546  72.520064\n",
              "         oversampling   74.398359  75.473209  74.790530\n",
              "         undersampling  79.929270  78.732980  79.415739\n",
              "         weights        80.038017  78.789513  71.967303"
            ]
          },
          "metadata": {
            "tags": []
          }
        },
        {
          "output_type": "stream",
          "text": [
            "\n",
            "rain outliers removed\n"
          ],
          "name": "stdout"
        },
        {
          "output_type": "display_data",
          "data": {
            "text/html": [
              "<div>\n",
              "<style scoped>\n",
              "    .dataframe tbody tr th:only-of-type {\n",
              "        vertical-align: middle;\n",
              "    }\n",
              "\n",
              "    .dataframe tbody tr th {\n",
              "        vertical-align: top;\n",
              "    }\n",
              "\n",
              "    .dataframe thead th {\n",
              "        text-align: right;\n",
              "    }\n",
              "</style>\n",
              "<table border=\"1\" class=\"dataframe\">\n",
              "  <thead>\n",
              "    <tr style=\"text-align: right;\">\n",
              "      <th></th>\n",
              "      <th></th>\n",
              "      <th>lgbm</th>\n",
              "      <th>xgb</th>\n",
              "      <th>rf</th>\n",
              "    </tr>\n",
              "  </thead>\n",
              "  <tbody>\n",
              "    <tr>\n",
              "      <th rowspan=\"4\" valign=\"top\">acc</th>\n",
              "      <th>simple</th>\n",
              "      <td>85.316466</td>\n",
              "      <td>84.944629</td>\n",
              "      <td>85.263924</td>\n",
              "    </tr>\n",
              "    <tr>\n",
              "      <th>oversampling</th>\n",
              "      <td>85.138631</td>\n",
              "      <td>84.172662</td>\n",
              "      <td>85.106297</td>\n",
              "    </tr>\n",
              "    <tr>\n",
              "      <th>undersampling</th>\n",
              "      <td>79.282192</td>\n",
              "      <td>78.530434</td>\n",
              "      <td>79.306442</td>\n",
              "    </tr>\n",
              "    <tr>\n",
              "      <th>weights</th>\n",
              "      <td>79.985450</td>\n",
              "      <td>78.817396</td>\n",
              "      <td>85.001213</td>\n",
              "    </tr>\n",
              "    <tr>\n",
              "      <th rowspan=\"4\" valign=\"top\">balanced</th>\n",
              "      <th>simple</th>\n",
              "      <td>73.326028</td>\n",
              "      <td>72.128554</td>\n",
              "      <td>72.162618</td>\n",
              "    </tr>\n",
              "    <tr>\n",
              "      <th>oversampling</th>\n",
              "      <td>73.579754</td>\n",
              "      <td>74.838530</td>\n",
              "      <td>74.189544</td>\n",
              "    </tr>\n",
              "    <tr>\n",
              "      <th>undersampling</th>\n",
              "      <td>79.359550</td>\n",
              "      <td>78.319002</td>\n",
              "      <td>79.217474</td>\n",
              "    </tr>\n",
              "    <tr>\n",
              "      <th>weights</th>\n",
              "      <td>79.521708</td>\n",
              "      <td>78.463684</td>\n",
              "      <td>71.179648</td>\n",
              "    </tr>\n",
              "  </tbody>\n",
              "</table>\n",
              "</div>"
            ],
            "text/plain": [
              "                             lgbm        xgb         rf\n",
              "acc      simple         85.316466  84.944629  85.263924\n",
              "         oversampling   85.138631  84.172662  85.106297\n",
              "         undersampling  79.282192  78.530434  79.306442\n",
              "         weights        79.985450  78.817396  85.001213\n",
              "balanced simple         73.326028  72.128554  72.162618\n",
              "         oversampling   73.579754  74.838530  74.189544\n",
              "         undersampling  79.359550  78.319002  79.217474\n",
              "         weights        79.521708  78.463684  71.179648"
            ]
          },
          "metadata": {
            "tags": []
          }
        },
        {
          "output_type": "stream",
          "text": [
            "\n",
            "original dataset\n"
          ],
          "name": "stdout"
        },
        {
          "output_type": "display_data",
          "data": {
            "text/html": [
              "<div>\n",
              "<style scoped>\n",
              "    .dataframe tbody tr th:only-of-type {\n",
              "        vertical-align: middle;\n",
              "    }\n",
              "\n",
              "    .dataframe tbody tr th {\n",
              "        vertical-align: top;\n",
              "    }\n",
              "\n",
              "    .dataframe thead th {\n",
              "        text-align: right;\n",
              "    }\n",
              "</style>\n",
              "<table border=\"1\" class=\"dataframe\">\n",
              "  <thead>\n",
              "    <tr style=\"text-align: right;\">\n",
              "      <th></th>\n",
              "      <th></th>\n",
              "      <th>lgbm</th>\n",
              "      <th>xgb</th>\n",
              "      <th>rf</th>\n",
              "    </tr>\n",
              "  </thead>\n",
              "  <tbody>\n",
              "    <tr>\n",
              "      <th rowspan=\"4\" valign=\"top\">acc</th>\n",
              "      <th>simple</th>\n",
              "      <td>86.503013</td>\n",
              "      <td>85.643389</td>\n",
              "      <td>86.290323</td>\n",
              "    </tr>\n",
              "    <tr>\n",
              "      <th>oversampling</th>\n",
              "      <td>86.219426</td>\n",
              "      <td>83.791209</td>\n",
              "      <td>85.519319</td>\n",
              "    </tr>\n",
              "    <tr>\n",
              "      <th>undersampling</th>\n",
              "      <td>81.522510</td>\n",
              "      <td>80.184332</td>\n",
              "      <td>80.831266</td>\n",
              "    </tr>\n",
              "    <tr>\n",
              "      <th>weights</th>\n",
              "      <td>81.868132</td>\n",
              "      <td>80.272953</td>\n",
              "      <td>85.926976</td>\n",
              "    </tr>\n",
              "    <tr>\n",
              "      <th rowspan=\"4\" valign=\"top\">balanced</th>\n",
              "      <th>simple</th>\n",
              "      <td>75.925545</td>\n",
              "      <td>73.381866</td>\n",
              "      <td>74.374217</td>\n",
              "    </tr>\n",
              "    <tr>\n",
              "      <th>oversampling</th>\n",
              "      <td>76.653317</td>\n",
              "      <td>78.186109</td>\n",
              "      <td>77.922555</td>\n",
              "    </tr>\n",
              "    <tr>\n",
              "      <th>undersampling</th>\n",
              "      <td>81.582654</td>\n",
              "      <td>80.363646</td>\n",
              "      <td>80.807342</td>\n",
              "    </tr>\n",
              "    <tr>\n",
              "      <th>weights</th>\n",
              "      <td>81.327808</td>\n",
              "      <td>80.564853</td>\n",
              "      <td>72.986175</td>\n",
              "    </tr>\n",
              "  </tbody>\n",
              "</table>\n",
              "</div>"
            ],
            "text/plain": [
              "                             lgbm        xgb         rf\n",
              "acc      simple         86.503013  85.643389  86.290323\n",
              "         oversampling   86.219426  83.791209  85.519319\n",
              "         undersampling  81.522510  80.184332  80.831266\n",
              "         weights        81.868132  80.272953  85.926976\n",
              "balanced simple         75.925545  73.381866  74.374217\n",
              "         oversampling   76.653317  78.186109  77.922555\n",
              "         undersampling  81.582654  80.363646  80.807342\n",
              "         weights        81.327808  80.564853  72.986175"
            ]
          },
          "metadata": {
            "tags": []
          }
        }
      ]
    }
  ]
}